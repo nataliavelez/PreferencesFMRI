{
 "cells": [
  {
   "cell_type": "markdown",
   "metadata": {},
   "source": [
    "# Generate representational similarity matrix"
   ]
  },
  {
   "cell_type": "code",
   "execution_count": 1,
   "metadata": {},
   "outputs": [],
   "source": [
    "%matplotlib inline\n",
    "\n",
    "# Handling files\n",
    "import os\n",
    "from os.path import join as opj\n",
    "from glob import glob\n",
    "import scipy.io as sio\n",
    "\n",
    "# Analysis\n",
    "import pandas as pd\n",
    "import numpy as np\n",
    "\n",
    "# Plotting\n",
    "import matplotlib.pyplot as plt\n",
    "import seaborn as sns"
   ]
  },
  {
   "cell_type": "markdown",
   "metadata": {},
   "source": [
    "Helper function: Cosine distance"
   ]
  },
  {
   "cell_type": "code",
   "execution_count": 3,
   "metadata": {},
   "outputs": [],
   "source": [
    "def cosine_distance(v1, v2):\n",
    "    dotprod = np.dot(v1, v2)\n",
    "    mag_v1 = np.sum(np.sqrt(np.power(v1, 2)))\n",
    "    mag_v2 = np.sum(np.sqrt(np.power(v2, 2)))\n",
    "    dist = dotprod/(mag_v1*mag_v2)\n",
    "    \n",
    "    return dist"
   ]
  },
  {
   "cell_type": "markdown",
   "metadata": {},
   "source": [
    "Experiment directories:"
   ]
  },
  {
   "cell_type": "code",
   "execution_count": 31,
   "metadata": {},
   "outputs": [
    {
     "data": {
      "text/plain": [
       "['/scratch/groups/hyo/OPUS/session_data/sll_opusfmri_03.test.1.180816_1905.mat',\n",
       " '/scratch/groups/hyo/OPUS/session_data/sll_opusfmri_03.test.2.180816_1915.mat',\n",
       " '/scratch/groups/hyo/OPUS/session_data/sll_opusfmri_04.test.1.180822_1857.mat',\n",
       " '/scratch/groups/hyo/OPUS/session_data/sll_opusfmri_04.test.2.180822_1907.mat',\n",
       " '/scratch/groups/hyo/OPUS/session_data/sll_opusfmri_05.test.1.180823_1859.mat',\n",
       " '/scratch/groups/hyo/OPUS/session_data/sll_opusfmri_05.test.2.180823_1908.mat',\n",
       " '/scratch/groups/hyo/OPUS/session_data/sll_opusfmri_06.test.1.180825_1725.mat',\n",
       " '/scratch/groups/hyo/OPUS/session_data/sll_opusfmri_06.test.2.180825_1734.mat',\n",
       " '/scratch/groups/hyo/OPUS/session_data/sll_opusfmri_07.test.1.180827_1856.mat',\n",
       " '/scratch/groups/hyo/OPUS/session_data/sll_opusfmri_07.test.2.180827_1905.mat',\n",
       " '/scratch/groups/hyo/OPUS/session_data/sll_opusfmri_08.test.1.180829_1852.mat',\n",
       " '/scratch/groups/hyo/OPUS/session_data/sll_opusfmri_08.test.2.180829_1902.mat']"
      ]
     },
     "execution_count": 31,
     "metadata": {},
     "output_type": "execute_result"
    }
   ],
   "source": [
    "scratch_dir = os.environ['PI_SCRATCH']\n",
    "project_dir = opj(scratch_dir, 'OPUS')\n",
    "\n",
    "# Model output: Self and other weights\n",
    "sim_dir = opj(project_dir, 'sim_data')\n",
    "sim_files = glob(opj(sim_dir, '*.mat'))\n",
    "sim_files.sort()\n",
    "\n",
    "# Test phase behavior\n",
    "behav_dir = opj(project_dir, 'session_data')\n",
    "test_files = glob(opj(behav_dir, '*test*'))\n",
    "test_files.sort()\n",
    "\n",
    "# Probe task behavior\n",
    "probe_files = glob(opj(behav_dir, '*probe*'))\n",
    "probe_files.sort()\n",
    "test_files"
   ]
  },
  {
   "cell_type": "markdown",
   "metadata": {},
   "source": [
    "## Representational similarity matrices"
   ]
  },
  {
   "cell_type": "markdown",
   "metadata": {},
   "source": [
    "### Read model-fitting data"
   ]
  },
  {
   "cell_type": "code",
   "execution_count": 29,
   "metadata": {},
   "outputs": [
    {
     "name": "stdout",
     "output_type": "stream",
     "text": [
      "[ 0.31663004 -0.57546922  0.13034145]\n",
      "[1.  0.5 0. ]\n"
     ]
    }
   ],
   "source": [
    "f = sim_files[0]\n",
    "\n",
    "# Load ground-truth weights from sim_data\n",
    "tmp_data = sio.loadmat(f)\n",
    "tmp_self = tmp_data['sim_agent']['orig_weights'][0][0]\n",
    "tmp_self = tmp_self.flatten()\n",
    "tmp_other = tmp_data['sim_agent']['sim_weights'][0][0]\n",
    "tmp_other = tmp_other.flatten()\n",
    "\n"
   ]
  },
  {
   "cell_type": "markdown",
   "metadata": {},
   "source": [
    "### RSM"
   ]
  },
  {
   "cell_type": "markdown",
   "metadata": {},
   "source": [
    "## Compare to probe task behavior"
   ]
  },
  {
   "cell_type": "markdown",
   "metadata": {},
   "source": [
    "## Scratch"
   ]
  },
  {
   "cell_type": "code",
   "execution_count": null,
   "metadata": {
    "scrolled": true
   },
   "outputs": [],
   "source": [
    "movies = {'[P, H, R]': [1, 1, 1],\n",
    "         '[P, H, A]': [1, 1, -1],\n",
    "         '[P, F, R]': [1, -1, 1],\n",
    "         '[P, F, A]':[1, -1, -1],\n",
    "         '[N, H, R]': [-1, 1, 1],\n",
    "         '[N, H, A]': [-1, 1, -1],\n",
    "         '[N, F, R]': [-1, -1, 1],\n",
    "         '[N, F, A]': [-1, -1, -1]}\n",
    "\n",
    "movie_df = pd.DataFrame([(m1, v1, m2, v2, cosine_distance(v1, v2))\n",
    "                          for m1, v1 in movies.items() for m2, v2 in movies.items()],\n",
    "                          columns = ['movie1', 'feat1', 'movie2', 'feat2', 'Features'])"
   ]
  },
  {
   "cell_type": "code",
   "execution_count": null,
   "metadata": {},
   "outputs": [],
   "source": [
    "def draw_heatmap(*args, **kwargs):\n",
    "    data = kwargs.pop('data')\n",
    "    d = data.pivot(index=args[1], columns=args[0], values=args[2])\n",
    "    ax = sns.heatmap(d, **kwargs)\n",
    "    return ax"
   ]
  },
  {
   "cell_type": "code",
   "execution_count": null,
   "metadata": {},
   "outputs": [],
   "source": [
    "self_preferences = [1, 0, 0]\n",
    "other_preferences = [0, 1, 0]"
   ]
  },
  {
   "cell_type": "code",
   "execution_count": null,
   "metadata": {},
   "outputs": [],
   "source": [
    "movie_df['self1'] = [np.multiply(f, self_preferences) for f in movie_df['feat1']]\n",
    "movie_df['self2'] = [np.multiply(f, self_preferences) for f in movie_df['feat2']]\n",
    "movie_df['Self'] = [cosine_distance(s1, s2) for s1, s2 in zip(movie_df['self1'], movie_df['self2'])]"
   ]
  },
  {
   "cell_type": "code",
   "execution_count": null,
   "metadata": {},
   "outputs": [],
   "source": [
    "movie_df['other1'] = [np.multiply(f, other_preferences) for f in movie_df['feat1']]\n",
    "movie_df['other2'] = [np.multiply(f, other_preferences) for f in movie_df['feat2']]\n",
    "movie_df['Other'] = [cosine_distance(s1, s2) for s1, s2 in zip(movie_df['other1'], movie_df['other2'])]"
   ]
  },
  {
   "cell_type": "code",
   "execution_count": null,
   "metadata": {},
   "outputs": [],
   "source": [
    "distance_df = movie_df.copy()\n",
    "distance_df = distance_df[['movie1', 'movie2', 'Features', 'Self', 'Other']]\n",
    "distance_df = pd.melt(distance_df, id_vars = ['movie1', 'movie2'],\n",
    "                      value_vars=['Features', 'Self', 'Other'],\n",
    "                      var_name='Reference frame',\n",
    "                      value_name='Distance')\n",
    "distance_df[:10]"
   ]
  },
  {
   "cell_type": "code",
   "execution_count": null,
   "metadata": {},
   "outputs": [],
   "source": [
    "fg = sns.FacetGrid(distance_df, col='Reference frame', gridspec_kws={\"wspace\":0})\n",
    "fg.map_dataframe(draw_heatmap, 'movie1', 'movie2', 'Distance', cmap='viridis', square = True)\n",
    "for ax in fg.axes.flat:\n",
    "    # set aspect of all axis\n",
    "    ax.set(xlabel='', ylabel='')"
   ]
  }
 ],
 "metadata": {
  "kernelspec": {
   "display_name": "Python [default]",
   "language": "python",
   "name": "python3"
  },
  "language_info": {
   "codemirror_mode": {
    "name": "ipython",
    "version": 3
   },
   "file_extension": ".py",
   "mimetype": "text/x-python",
   "name": "python",
   "nbconvert_exporter": "python",
   "pygments_lexer": "ipython3",
   "version": "3.6.6"
  }
 },
 "nbformat": 4,
 "nbformat_minor": 2
}
