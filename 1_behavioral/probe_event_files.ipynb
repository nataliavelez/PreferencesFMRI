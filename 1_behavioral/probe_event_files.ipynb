{
 "cells": [
  {
   "cell_type": "markdown",
   "metadata": {},
   "source": [
    "# Make event files for probe task"
   ]
  },
  {
   "cell_type": "code",
   "execution_count": 1,
   "metadata": {},
   "outputs": [],
   "source": [
    "import os\n",
    "import re\n",
    "from os.path import join as opj\n",
    "from glob import glob\n",
    "import scipy.io as sio\n",
    "import numpy as np\n",
    "import pandas as pd"
   ]
  },
  {
   "cell_type": "markdown",
   "metadata": {},
   "source": [
    "Helper functions:"
   ]
  },
  {
   "cell_type": "code",
   "execution_count": 2,
   "metadata": {},
   "outputs": [],
   "source": [
    "str_extract = lambda pattern, s: re.search(pattern, s).group(0)\n",
    "num_extract = lambda pattern, s: int(str_extract(pattern, s))"
   ]
  },
  {
   "cell_type": "markdown",
   "metadata": {},
   "source": [
    "Experiment directories:"
   ]
  },
  {
   "cell_type": "code",
   "execution_count": 3,
   "metadata": {},
   "outputs": [
    {
     "name": "stdout",
     "output_type": "stream",
     "text": [
      "/scratch/groups/hyo/OPUS/BIDS_data/sub-03/func/sub-03_task-probe_run-01_events.tsv\n"
     ]
    }
   ],
   "source": [
    "# Project directory\n",
    "scratch_dir = os.environ['PI_SCRATCH']\n",
    "project_dir = opj(scratch_dir, 'OPUS')\n",
    "\n",
    "# Raw behavioral files\n",
    "in_dir = opj(project_dir, 'session_data')\n",
    "in_files = glob(opj(in_dir, '*probe*'))\n",
    "in_files.sort()\n",
    "\n",
    "# Output directory\n",
    "out_dir = opj(project_dir, 'BIDS_data')\n",
    "out_template = opj(out_dir, 'sub-%02d', 'func', 'sub-%02d_task-probe_run-%02d_events.tsv')\n",
    "print(out_template % (3, 3, 1))"
   ]
  },
  {
   "cell_type": "markdown",
   "metadata": {},
   "source": [
    "MAIN LOOP: Read raw behavioral files and save as event files"
   ]
  },
  {
   "cell_type": "code",
   "execution_count": 4,
   "metadata": {},
   "outputs": [],
   "source": [
    "for f in in_files:\n",
    "    tmp_in = sio.loadmat(f)\n",
    "    tmp_data = tmp_in['Data']['trial'][0][0][0]\n",
    "\n",
    "    # Get output file from filename\n",
    "    tmp_sub = num_extract('(?<=sll\\_opusfmri\\_)[0-9]+', f)\n",
    "    tmp_run = num_extract('(?<=probe\\.)[0-9]+', f)\n",
    "    tmp_outf = out_template % (tmp_sub, tmp_sub, tmp_run)\n",
    "\n",
    "    # Trial types + timing\n",
    "    tmp_condition = [c[0].lower() for c in tmp_data['condition']]\n",
    "    tmp_onset = [o[0][0] for o in tmp_data['ons']]\n",
    "    tmp_duration = [d[0][0] for d in tmp_data['dur']]\n",
    "    tmp_rt = [t[0][0] for t in tmp_data['rt']]\n",
    "\n",
    "    # Stimuli\n",
    "    tmp_stim = [s[0].replace('.png', '') for s in tmp_data['stim']]\n",
    "\n",
    "    # Ratings (tmp_scale == -1: reverse coded)\n",
    "    tmp_scale = tmp_in['Data']['scale'][0][0][0][0]\n",
    "    tmp_ratings_raw = [r[0][0] for r in tmp_data['response']]\n",
    "    tmp_ratings = np.array(tmp_ratings_raw)\n",
    "    tmp_ratings = tmp_ratings if (tmp_scale == 1) else 5-tmp_ratings\n",
    "\n",
    "    # Assemble data frame\n",
    "    tmp_out = pd.DataFrame(list(zip(tmp_onset, tmp_duration,\n",
    "                                    tmp_condition, tmp_rt,\n",
    "                                    tmp_stim, tmp_ratings)),\n",
    "                          columns = ['onset', 'duration', 'trial_type', 'response_time', 'stimulus', 'rating'])\n",
    "\n",
    "    tmp_out.to_csv(tmp_outf, sep='\\t', na_rep='n/a', index=False)"
   ]
  }
 ],
 "metadata": {
  "kernelspec": {
   "display_name": "Python [conda env:neuro]",
   "language": "python",
   "name": "conda-env-neuro-py"
  },
  "language_info": {
   "codemirror_mode": {
    "name": "ipython",
    "version": 3
   },
   "file_extension": ".py",
   "mimetype": "text/x-python",
   "name": "python",
   "nbconvert_exporter": "python",
   "pygments_lexer": "ipython3",
   "version": "3.6.6"
  }
 },
 "nbformat": 4,
 "nbformat_minor": 2
}
