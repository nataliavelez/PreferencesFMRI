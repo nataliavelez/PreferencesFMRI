{
 "cells": [
  {
   "cell_type": "code",
   "execution_count": 1,
   "metadata": {},
   "outputs": [],
   "source": [
    "%matplotlib inline\n",
    "\n",
    "import scipy.io as sio\n",
    "import pandas as pd\n",
    "import numpy as np\n",
    "import matplotlib.pyplot as plt\n",
    "import seaborn as sns"
   ]
  },
  {
   "cell_type": "markdown",
   "metadata": {},
   "source": [
    "Helper function: Cosine distance"
   ]
  },
  {
   "cell_type": "code",
   "execution_count": 2,
   "metadata": {},
   "outputs": [],
   "source": [
    "def cosine_distance(v1, v2):\n",
    "    dotprod = np.dot(v1, v2)\n",
    "    mag_v1 = np.sum(np.sqrt(np.power(v1, 2)))\n",
    "    mag_v2 = np.sum(np.sqrt(np.power(v2, 2)))\n",
    "    dist = dotprod/(mag_v1*mag_v2)\n",
    "    \n",
    "    return dist"
   ]
  },
  {
   "cell_type": "markdown",
   "metadata": {},
   "source": [
    "## Schematic representational similarity matrices"
   ]
  },
  {
   "cell_type": "code",
   "execution_count": 3,
   "metadata": {
    "scrolled": true
   },
   "outputs": [],
   "source": [
    "movies = {'[P, H, R]': [1, 1, 1],\n",
    "         '[P, H, A]': [1, 1, -1],\n",
    "         '[P, F, R]': [1, -1, 1],\n",
    "         '[P, F, A]':[1, -1, -1],\n",
    "         '[N, H, R]': [-1, 1, 1],\n",
    "         '[N, H, A]': [-1, 1, -1],\n",
    "         '[N, F, R]': [-1, -1, 1],\n",
    "         '[N, F, A]': [-1, -1, -1]}\n",
    "\n",
    "movie_df = pd.DataFrame([(m1, v1, m2, v2, cosine_distance(v1, v2))\n",
    "                          for m1, v1 in movies.items() for m2, v2 in movies.items()],\n",
    "                          columns = ['movie1', 'feat1', 'movie2', 'feat2', 'Features'])"
   ]
  },
  {
   "cell_type": "code",
   "execution_count": 4,
   "metadata": {},
   "outputs": [],
   "source": [
    "def draw_heatmap(*args, **kwargs):\n",
    "    data = kwargs.pop('data')\n",
    "    d = data.pivot(index=args[1], columns=args[0], values=args[2])\n",
    "    ax = sns.heatmap(d, **kwargs)\n",
    "    return ax"
   ]
  },
  {
   "cell_type": "code",
   "execution_count": 5,
   "metadata": {},
   "outputs": [],
   "source": [
    "self_preferences = [1, 0, 0]\n",
    "other_preferences = [0, 1, 0]"
   ]
  },
  {
   "cell_type": "code",
   "execution_count": 6,
   "metadata": {},
   "outputs": [],
   "source": [
    "movie_df['self1'] = [np.multiply(f, self_preferences) for f in movie_df['feat1']]\n",
    "movie_df['self2'] = [np.multiply(f, self_preferences) for f in movie_df['feat2']]\n",
    "movie_df['Self'] = [cosine_distance(s1, s2) for s1, s2 in zip(movie_df['self1'], movie_df['self2'])]"
   ]
  },
  {
   "cell_type": "code",
   "execution_count": 7,
   "metadata": {},
   "outputs": [],
   "source": [
    "movie_df['other1'] = [np.multiply(f, other_preferences) for f in movie_df['feat1']]\n",
    "movie_df['other2'] = [np.multiply(f, other_preferences) for f in movie_df['feat2']]\n",
    "movie_df['Other'] = [cosine_distance(s1, s2) for s1, s2 in zip(movie_df['other1'], movie_df['other2'])]"
   ]
  },
  {
   "cell_type": "code",
   "execution_count": 8,
   "metadata": {},
   "outputs": [
    {
     "data": {
      "text/html": [
       "<div>\n",
       "<style scoped>\n",
       "    .dataframe tbody tr th:only-of-type {\n",
       "        vertical-align: middle;\n",
       "    }\n",
       "\n",
       "    .dataframe tbody tr th {\n",
       "        vertical-align: top;\n",
       "    }\n",
       "\n",
       "    .dataframe thead th {\n",
       "        text-align: right;\n",
       "    }\n",
       "</style>\n",
       "<table border=\"1\" class=\"dataframe\">\n",
       "  <thead>\n",
       "    <tr style=\"text-align: right;\">\n",
       "      <th></th>\n",
       "      <th>movie1</th>\n",
       "      <th>movie2</th>\n",
       "      <th>Reference frame</th>\n",
       "      <th>Distance</th>\n",
       "    </tr>\n",
       "  </thead>\n",
       "  <tbody>\n",
       "    <tr>\n",
       "      <th>0</th>\n",
       "      <td>[P, H, R]</td>\n",
       "      <td>[P, H, R]</td>\n",
       "      <td>Features</td>\n",
       "      <td>0.333333</td>\n",
       "    </tr>\n",
       "    <tr>\n",
       "      <th>1</th>\n",
       "      <td>[P, H, R]</td>\n",
       "      <td>[P, H, A]</td>\n",
       "      <td>Features</td>\n",
       "      <td>0.111111</td>\n",
       "    </tr>\n",
       "    <tr>\n",
       "      <th>2</th>\n",
       "      <td>[P, H, R]</td>\n",
       "      <td>[P, F, R]</td>\n",
       "      <td>Features</td>\n",
       "      <td>0.111111</td>\n",
       "    </tr>\n",
       "    <tr>\n",
       "      <th>3</th>\n",
       "      <td>[P, H, R]</td>\n",
       "      <td>[P, F, A]</td>\n",
       "      <td>Features</td>\n",
       "      <td>-0.111111</td>\n",
       "    </tr>\n",
       "    <tr>\n",
       "      <th>4</th>\n",
       "      <td>[P, H, R]</td>\n",
       "      <td>[N, H, R]</td>\n",
       "      <td>Features</td>\n",
       "      <td>0.111111</td>\n",
       "    </tr>\n",
       "    <tr>\n",
       "      <th>5</th>\n",
       "      <td>[P, H, R]</td>\n",
       "      <td>[N, H, A]</td>\n",
       "      <td>Features</td>\n",
       "      <td>-0.111111</td>\n",
       "    </tr>\n",
       "    <tr>\n",
       "      <th>6</th>\n",
       "      <td>[P, H, R]</td>\n",
       "      <td>[N, F, R]</td>\n",
       "      <td>Features</td>\n",
       "      <td>-0.111111</td>\n",
       "    </tr>\n",
       "    <tr>\n",
       "      <th>7</th>\n",
       "      <td>[P, H, R]</td>\n",
       "      <td>[N, F, A]</td>\n",
       "      <td>Features</td>\n",
       "      <td>-0.333333</td>\n",
       "    </tr>\n",
       "    <tr>\n",
       "      <th>8</th>\n",
       "      <td>[P, H, A]</td>\n",
       "      <td>[P, H, R]</td>\n",
       "      <td>Features</td>\n",
       "      <td>0.111111</td>\n",
       "    </tr>\n",
       "    <tr>\n",
       "      <th>9</th>\n",
       "      <td>[P, H, A]</td>\n",
       "      <td>[P, H, A]</td>\n",
       "      <td>Features</td>\n",
       "      <td>0.333333</td>\n",
       "    </tr>\n",
       "  </tbody>\n",
       "</table>\n",
       "</div>"
      ],
      "text/plain": [
       "      movie1     movie2 Reference frame  Distance\n",
       "0  [P, H, R]  [P, H, R]        Features  0.333333\n",
       "1  [P, H, R]  [P, H, A]        Features  0.111111\n",
       "2  [P, H, R]  [P, F, R]        Features  0.111111\n",
       "3  [P, H, R]  [P, F, A]        Features -0.111111\n",
       "4  [P, H, R]  [N, H, R]        Features  0.111111\n",
       "5  [P, H, R]  [N, H, A]        Features -0.111111\n",
       "6  [P, H, R]  [N, F, R]        Features -0.111111\n",
       "7  [P, H, R]  [N, F, A]        Features -0.333333\n",
       "8  [P, H, A]  [P, H, R]        Features  0.111111\n",
       "9  [P, H, A]  [P, H, A]        Features  0.333333"
      ]
     },
     "execution_count": 8,
     "metadata": {},
     "output_type": "execute_result"
    }
   ],
   "source": [
    "distance_df = movie_df.copy()\n",
    "distance_df = distance_df[['movie1', 'movie2', 'Features', 'Self', 'Other']]\n",
    "distance_df = pd.melt(distance_df, id_vars = ['movie1', 'movie2'],\n",
    "                      value_vars=['Features', 'Self', 'Other'],\n",
    "                      var_name='Reference frame',\n",
    "                      value_name='Distance')\n",
    "distance_df[:10]"
   ]
  },
  {
   "cell_type": "code",
   "execution_count": 9,
   "metadata": {},
   "outputs": [
    {
     "data": {
      "image/png": "[encoded data removed]",
      "text/plain": [
       "<Figure size 648x216 with 6 Axes>"
      ]
     },
     "metadata": {},
     "output_type": "display_data"
    }
   ],
   "source": [
    "fg = sns.FacetGrid(distance_df, col='Reference frame', gridspec_kws={\"wspace\":0})\n",
    "fg.map_dataframe(draw_heatmap, 'movie1', 'movie2', 'Distance', cmap='viridis', square = True)\n",
    "for ax in fg.axes.flat:\n",
    "    # set aspect of all axis\n",
    "    ax.set(xlabel='', ylabel='')"
   ]
  }
 ],
 "metadata": {
  "kernelspec": {
   "display_name": "Python 3",
   "language": "python",
   "name": "python3"
  },
  "language_info": {
   "codemirror_mode": {
    "name": "ipython",
    "version": 3
   },
   "file_extension": ".py",
   "mimetype": "text/x-python",
   "name": "python",
   "nbconvert_exporter": "python",
   "pygments_lexer": "ipython3",
   "version": "3.6.6"
  }
 },
 "nbformat": 4,
 "nbformat_minor": 2
}
