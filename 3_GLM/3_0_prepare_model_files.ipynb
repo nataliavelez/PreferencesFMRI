{
 "cells": [
  {
   "cell_type": "markdown",
   "metadata": {},
   "source": [
    "# Prepare model files"
   ]
  },
  {
   "cell_type": "code",
   "execution_count": 1,
   "metadata": {},
   "outputs": [],
   "source": [
    "import os\n",
    "import glob\n",
    "import json\n",
    "from os.path import join as opj\n",
    "import numpy as np\n",
    "import pandas as pd"
   ]
  },
  {
   "cell_type": "markdown",
   "metadata": {},
   "source": [
    "Project directories:"
   ]
  },
  {
   "cell_type": "code",
   "execution_count": 2,
   "metadata": {},
   "outputs": [
    {
     "name": "stdout",
     "output_type": "stream",
     "text": [
      "Reading data from: /scratch/groups/hyo/OPUS/BIDS_data\n",
      "Placing model specification in: /scratch/groups/hyo/OPUS/BIDS_data/derivatives/l1model\n"
     ]
    }
   ],
   "source": [
    "scratch_dir = os.environ['PI_SCRATCH']\n",
    "data_dir = opj(scratch_dir, 'OPUS', 'BIDS_data')\n",
    "model_dir = opj(data_dir, 'derivatives', 'l1model')\n",
    "\n",
    "if not os.path.isdir(model_dir):\n",
    "    os.mkdir(model_dir)\n",
    "    \n",
    "print('Reading data from: %s' % data_dir)\n",
    "print('Placing model specification in: %s' % model_dir)"
   ]
  },
  {
   "cell_type": "markdown",
   "metadata": {},
   "source": [
    "Find subjects:"
   ]
  },
  {
   "cell_type": "code",
   "execution_count": 3,
   "metadata": {},
   "outputs": [
    {
     "name": "stdout",
     "output_type": "stream",
     "text": [
      "Found subjects: ['sub-03', 'sub-04', 'sub-05', 'sub-06', 'sub-07', 'sub-08']\n"
     ]
    }
   ],
   "source": [
    "subjects = [os.path.basename(x) for x in glob.glob(opj(data_dir, 'sub-*'))]\n",
    "print('Found subjects: %s' % subjects)"
   ]
  },
  {
   "cell_type": "markdown",
   "metadata": {},
   "source": [
    "## Self task"
   ]
  },
  {
   "cell_type": "markdown",
   "metadata": {},
   "source": [
    "Contrasts:"
   ]
  },
  {
   "cell_type": "code",
   "execution_count": null,
   "metadata": {},
   "outputs": [],
   "source": [
    "self_names = ['self', 'motor-left', 'motor-right', 'self-chosen', 'self-unchosen']\n",
    "self_con = [\n",
    "    ('self: chosen > unchosen', 'T', self_names, [0, 0, 0, 1, -1]),\n",
    "    ('self: unchosen > chosen', 'T', self_names, [0, 0, 0, -1, 1]),\n",
    "    ('left > right', 'T', self_names, [0, 1, -1, 0, 0]),\n",
    "    ('right > left', 'T', self_names, [0, -1, 1, 0, 0]),\n",
    "    ('task', 'T', self_names, [1, 0, 0, 0, 0]),\n",
    "    ('rest', 'T', self_names, [-1, 0, 0, 0, 0])\n",
    "]\n",
    "\n",
    "self_con_out = opj(model_dir, 'task-self_model-value.json')\n",
    "with open(self_con_out, 'w') as fp:\n",
    "    json.dump(self_con, fp, indent=4)"
   ]
  },
  {
   "cell_type": "markdown",
   "metadata": {},
   "source": [
    "Make event files:"
   ]
  },
  {
   "cell_type": "code",
   "execution_count": 14,
   "metadata": {},
   "outputs": [
    {
     "name": "stdout",
     "output_type": "stream",
     "text": [
      "Saving model specification to: /scratch/groups/hyo/OPUS/BIDS_data/derivatives/l1model/sub-03/func\n",
      "Found functional runs: ['/scratch/groups/hyo/OPUS/BIDS_data/sub-03/func/sub-03_task-test_run-01_events.tsv', '/scratch/groups/hyo/OPUS/BIDS_data/sub-03/func/sub-03_task-test_run-02_events.tsv']\n"
     ]
    },
    {
     "ename": "KeyError",
     "evalue": "'self_value_c'",
     "output_type": "error",
     "traceback": [
      "\u001b[0;31m---------------------------------------------------------------------------\u001b[0m",
      "\u001b[0;31mKeyError\u001b[0m                                  Traceback (most recent call last)",
      "\u001b[0;32m~/.local/lib/python3.6/site-packages/pandas/core/indexes/base.py\u001b[0m in \u001b[0;36mget_loc\u001b[0;34m(self, key, method, tolerance)\u001b[0m\n\u001b[1;32m   3077\u001b[0m             \u001b[0;32mtry\u001b[0m\u001b[0;34m:\u001b[0m\u001b[0;34m\u001b[0m\u001b[0;34m\u001b[0m\u001b[0m\n\u001b[0;32m-> 3078\u001b[0;31m                 \u001b[0;32mreturn\u001b[0m \u001b[0mself\u001b[0m\u001b[0;34m.\u001b[0m\u001b[0m_engine\u001b[0m\u001b[0;34m.\u001b[0m\u001b[0mget_loc\u001b[0m\u001b[0;34m(\u001b[0m\u001b[0mkey\u001b[0m\u001b[0;34m)\u001b[0m\u001b[0;34m\u001b[0m\u001b[0;34m\u001b[0m\u001b[0m\n\u001b[0m\u001b[1;32m   3079\u001b[0m             \u001b[0;32mexcept\u001b[0m \u001b[0mKeyError\u001b[0m\u001b[0;34m:\u001b[0m\u001b[0;34m\u001b[0m\u001b[0;34m\u001b[0m\u001b[0m\n",
      "\u001b[0;32mpandas/_libs/index.pyx\u001b[0m in \u001b[0;36mpandas._libs.index.IndexEngine.get_loc\u001b[0;34m()\u001b[0m\n",
      "\u001b[0;32mpandas/_libs/index.pyx\u001b[0m in \u001b[0;36mpandas._libs.index.IndexEngine.get_loc\u001b[0;34m()\u001b[0m\n",
      "\u001b[0;32mpandas/_libs/hashtable_class_helper.pxi\u001b[0m in \u001b[0;36mpandas._libs.hashtable.PyObjectHashTable.get_item\u001b[0;34m()\u001b[0m\n",
      "\u001b[0;32mpandas/_libs/hashtable_class_helper.pxi\u001b[0m in \u001b[0;36mpandas._libs.hashtable.PyObjectHashTable.get_item\u001b[0;34m()\u001b[0m\n",
      "\u001b[0;31mKeyError\u001b[0m: 'self_value_c'",
      "\nDuring handling of the above exception, another exception occurred:\n",
      "\u001b[0;31mKeyError\u001b[0m                                  Traceback (most recent call last)",
      "\u001b[0;32m<ipython-input-14-ef3dd6d9173e>\u001b[0m in \u001b[0;36m<module>\u001b[0;34m\u001b[0m\n\u001b[1;32m     28\u001b[0m         \u001b[0mchosen_value\u001b[0m \u001b[0;34m=\u001b[0m \u001b[0mtrials\u001b[0m\u001b[0;34m.\u001b[0m\u001b[0mcopy\u001b[0m\u001b[0;34m(\u001b[0m\u001b[0;34m)\u001b[0m\u001b[0;34m\u001b[0m\u001b[0;34m\u001b[0m\u001b[0m\n\u001b[1;32m     29\u001b[0m         \u001b[0mchosen_value\u001b[0m\u001b[0;34m[\u001b[0m\u001b[0;34m'trial_type'\u001b[0m\u001b[0;34m]\u001b[0m \u001b[0;34m=\u001b[0m \u001b[0;34m'self-chosen'\u001b[0m\u001b[0;34m\u001b[0m\u001b[0;34m\u001b[0m\u001b[0m\n\u001b[0;32m---> 30\u001b[0;31m         \u001b[0mchosen_value\u001b[0m\u001b[0;34m[\u001b[0m\u001b[0;34m'amplitude'\u001b[0m\u001b[0;34m]\u001b[0m \u001b[0;34m=\u001b[0m \u001b[0mevents\u001b[0m\u001b[0;34m[\u001b[0m\u001b[0;34m'self_value_c'\u001b[0m\u001b[0;34m]\u001b[0m\u001b[0;34m\u001b[0m\u001b[0;34m\u001b[0m\u001b[0m\n\u001b[0m\u001b[1;32m     31\u001b[0m         \u001b[0mchosen_value\u001b[0m\u001b[0;34m.\u001b[0m\u001b[0mdropna\u001b[0m\u001b[0;34m(\u001b[0m\u001b[0minplace\u001b[0m\u001b[0;34m=\u001b[0m\u001b[0;32mTrue\u001b[0m\u001b[0;34m)\u001b[0m\u001b[0;34m\u001b[0m\u001b[0;34m\u001b[0m\u001b[0m\n\u001b[1;32m     32\u001b[0m \u001b[0;34m\u001b[0m\u001b[0m\n",
      "\u001b[0;32m~/.local/lib/python3.6/site-packages/pandas/core/frame.py\u001b[0m in \u001b[0;36m__getitem__\u001b[0;34m(self, key)\u001b[0m\n\u001b[1;32m   2686\u001b[0m             \u001b[0;32mreturn\u001b[0m \u001b[0mself\u001b[0m\u001b[0;34m.\u001b[0m\u001b[0m_getitem_multilevel\u001b[0m\u001b[0;34m(\u001b[0m\u001b[0mkey\u001b[0m\u001b[0;34m)\u001b[0m\u001b[0;34m\u001b[0m\u001b[0;34m\u001b[0m\u001b[0m\n\u001b[1;32m   2687\u001b[0m         \u001b[0;32melse\u001b[0m\u001b[0;34m:\u001b[0m\u001b[0;34m\u001b[0m\u001b[0;34m\u001b[0m\u001b[0m\n\u001b[0;32m-> 2688\u001b[0;31m             \u001b[0;32mreturn\u001b[0m \u001b[0mself\u001b[0m\u001b[0;34m.\u001b[0m\u001b[0m_getitem_column\u001b[0m\u001b[0;34m(\u001b[0m\u001b[0mkey\u001b[0m\u001b[0;34m)\u001b[0m\u001b[0;34m\u001b[0m\u001b[0;34m\u001b[0m\u001b[0m\n\u001b[0m\u001b[1;32m   2689\u001b[0m \u001b[0;34m\u001b[0m\u001b[0m\n\u001b[1;32m   2690\u001b[0m     \u001b[0;32mdef\u001b[0m \u001b[0m_getitem_column\u001b[0m\u001b[0;34m(\u001b[0m\u001b[0mself\u001b[0m\u001b[0;34m,\u001b[0m \u001b[0mkey\u001b[0m\u001b[0;34m)\u001b[0m\u001b[0;34m:\u001b[0m\u001b[0;34m\u001b[0m\u001b[0;34m\u001b[0m\u001b[0m\n",
      "\u001b[0;32m~/.local/lib/python3.6/site-packages/pandas/core/frame.py\u001b[0m in \u001b[0;36m_getitem_column\u001b[0;34m(self, key)\u001b[0m\n\u001b[1;32m   2693\u001b[0m         \u001b[0;31m# get column\u001b[0m\u001b[0;34m\u001b[0m\u001b[0;34m\u001b[0m\u001b[0;34m\u001b[0m\u001b[0m\n\u001b[1;32m   2694\u001b[0m         \u001b[0;32mif\u001b[0m \u001b[0mself\u001b[0m\u001b[0;34m.\u001b[0m\u001b[0mcolumns\u001b[0m\u001b[0;34m.\u001b[0m\u001b[0mis_unique\u001b[0m\u001b[0;34m:\u001b[0m\u001b[0;34m\u001b[0m\u001b[0;34m\u001b[0m\u001b[0m\n\u001b[0;32m-> 2695\u001b[0;31m             \u001b[0;32mreturn\u001b[0m \u001b[0mself\u001b[0m\u001b[0;34m.\u001b[0m\u001b[0m_get_item_cache\u001b[0m\u001b[0;34m(\u001b[0m\u001b[0mkey\u001b[0m\u001b[0;34m)\u001b[0m\u001b[0;34m\u001b[0m\u001b[0;34m\u001b[0m\u001b[0m\n\u001b[0m\u001b[1;32m   2696\u001b[0m \u001b[0;34m\u001b[0m\u001b[0m\n\u001b[1;32m   2697\u001b[0m         \u001b[0;31m# duplicate columns & possible reduce dimensionality\u001b[0m\u001b[0;34m\u001b[0m\u001b[0;34m\u001b[0m\u001b[0;34m\u001b[0m\u001b[0m\n",
      "\u001b[0;32m~/.local/lib/python3.6/site-packages/pandas/core/generic.py\u001b[0m in \u001b[0;36m_get_item_cache\u001b[0;34m(self, item)\u001b[0m\n\u001b[1;32m   2487\u001b[0m         \u001b[0mres\u001b[0m \u001b[0;34m=\u001b[0m \u001b[0mcache\u001b[0m\u001b[0;34m.\u001b[0m\u001b[0mget\u001b[0m\u001b[0;34m(\u001b[0m\u001b[0mitem\u001b[0m\u001b[0;34m)\u001b[0m\u001b[0;34m\u001b[0m\u001b[0;34m\u001b[0m\u001b[0m\n\u001b[1;32m   2488\u001b[0m         \u001b[0;32mif\u001b[0m \u001b[0mres\u001b[0m \u001b[0;32mis\u001b[0m \u001b[0;32mNone\u001b[0m\u001b[0;34m:\u001b[0m\u001b[0;34m\u001b[0m\u001b[0;34m\u001b[0m\u001b[0m\n\u001b[0;32m-> 2489\u001b[0;31m             \u001b[0mvalues\u001b[0m \u001b[0;34m=\u001b[0m \u001b[0mself\u001b[0m\u001b[0;34m.\u001b[0m\u001b[0m_data\u001b[0m\u001b[0;34m.\u001b[0m\u001b[0mget\u001b[0m\u001b[0;34m(\u001b[0m\u001b[0mitem\u001b[0m\u001b[0;34m)\u001b[0m\u001b[0;34m\u001b[0m\u001b[0;34m\u001b[0m\u001b[0m\n\u001b[0m\u001b[1;32m   2490\u001b[0m             \u001b[0mres\u001b[0m \u001b[0;34m=\u001b[0m \u001b[0mself\u001b[0m\u001b[0;34m.\u001b[0m\u001b[0m_box_item_values\u001b[0m\u001b[0;34m(\u001b[0m\u001b[0mitem\u001b[0m\u001b[0;34m,\u001b[0m \u001b[0mvalues\u001b[0m\u001b[0;34m)\u001b[0m\u001b[0;34m\u001b[0m\u001b[0;34m\u001b[0m\u001b[0m\n\u001b[1;32m   2491\u001b[0m             \u001b[0mcache\u001b[0m\u001b[0;34m[\u001b[0m\u001b[0mitem\u001b[0m\u001b[0;34m]\u001b[0m \u001b[0;34m=\u001b[0m \u001b[0mres\u001b[0m\u001b[0;34m\u001b[0m\u001b[0;34m\u001b[0m\u001b[0m\n",
      "\u001b[0;32m~/.local/lib/python3.6/site-packages/pandas/core/internals.py\u001b[0m in \u001b[0;36mget\u001b[0;34m(self, item, fastpath)\u001b[0m\n\u001b[1;32m   4113\u001b[0m \u001b[0;34m\u001b[0m\u001b[0m\n\u001b[1;32m   4114\u001b[0m             \u001b[0;32mif\u001b[0m \u001b[0;32mnot\u001b[0m \u001b[0misna\u001b[0m\u001b[0;34m(\u001b[0m\u001b[0mitem\u001b[0m\u001b[0;34m)\u001b[0m\u001b[0;34m:\u001b[0m\u001b[0;34m\u001b[0m\u001b[0;34m\u001b[0m\u001b[0m\n\u001b[0;32m-> 4115\u001b[0;31m                 \u001b[0mloc\u001b[0m \u001b[0;34m=\u001b[0m \u001b[0mself\u001b[0m\u001b[0;34m.\u001b[0m\u001b[0mitems\u001b[0m\u001b[0;34m.\u001b[0m\u001b[0mget_loc\u001b[0m\u001b[0;34m(\u001b[0m\u001b[0mitem\u001b[0m\u001b[0;34m)\u001b[0m\u001b[0;34m\u001b[0m\u001b[0;34m\u001b[0m\u001b[0m\n\u001b[0m\u001b[1;32m   4116\u001b[0m             \u001b[0;32melse\u001b[0m\u001b[0;34m:\u001b[0m\u001b[0;34m\u001b[0m\u001b[0;34m\u001b[0m\u001b[0m\n\u001b[1;32m   4117\u001b[0m                 \u001b[0mindexer\u001b[0m \u001b[0;34m=\u001b[0m \u001b[0mnp\u001b[0m\u001b[0;34m.\u001b[0m\u001b[0marange\u001b[0m\u001b[0;34m(\u001b[0m\u001b[0mlen\u001b[0m\u001b[0;34m(\u001b[0m\u001b[0mself\u001b[0m\u001b[0;34m.\u001b[0m\u001b[0mitems\u001b[0m\u001b[0;34m)\u001b[0m\u001b[0;34m)\u001b[0m\u001b[0;34m[\u001b[0m\u001b[0misna\u001b[0m\u001b[0;34m(\u001b[0m\u001b[0mself\u001b[0m\u001b[0;34m.\u001b[0m\u001b[0mitems\u001b[0m\u001b[0;34m)\u001b[0m\u001b[0;34m]\u001b[0m\u001b[0;34m\u001b[0m\u001b[0;34m\u001b[0m\u001b[0m\n",
      "\u001b[0;32m~/.local/lib/python3.6/site-packages/pandas/core/indexes/base.py\u001b[0m in \u001b[0;36mget_loc\u001b[0;34m(self, key, method, tolerance)\u001b[0m\n\u001b[1;32m   3078\u001b[0m                 \u001b[0;32mreturn\u001b[0m \u001b[0mself\u001b[0m\u001b[0;34m.\u001b[0m\u001b[0m_engine\u001b[0m\u001b[0;34m.\u001b[0m\u001b[0mget_loc\u001b[0m\u001b[0;34m(\u001b[0m\u001b[0mkey\u001b[0m\u001b[0;34m)\u001b[0m\u001b[0;34m\u001b[0m\u001b[0;34m\u001b[0m\u001b[0m\n\u001b[1;32m   3079\u001b[0m             \u001b[0;32mexcept\u001b[0m \u001b[0mKeyError\u001b[0m\u001b[0;34m:\u001b[0m\u001b[0;34m\u001b[0m\u001b[0;34m\u001b[0m\u001b[0m\n\u001b[0;32m-> 3080\u001b[0;31m                 \u001b[0;32mreturn\u001b[0m \u001b[0mself\u001b[0m\u001b[0;34m.\u001b[0m\u001b[0m_engine\u001b[0m\u001b[0;34m.\u001b[0m\u001b[0mget_loc\u001b[0m\u001b[0;34m(\u001b[0m\u001b[0mself\u001b[0m\u001b[0;34m.\u001b[0m\u001b[0m_maybe_cast_indexer\u001b[0m\u001b[0;34m(\u001b[0m\u001b[0mkey\u001b[0m\u001b[0;34m)\u001b[0m\u001b[0;34m)\u001b[0m\u001b[0;34m\u001b[0m\u001b[0;34m\u001b[0m\u001b[0m\n\u001b[0m\u001b[1;32m   3081\u001b[0m \u001b[0;34m\u001b[0m\u001b[0m\n\u001b[1;32m   3082\u001b[0m         \u001b[0mindexer\u001b[0m \u001b[0;34m=\u001b[0m \u001b[0mself\u001b[0m\u001b[0;34m.\u001b[0m\u001b[0mget_indexer\u001b[0m\u001b[0;34m(\u001b[0m\u001b[0;34m[\u001b[0m\u001b[0mkey\u001b[0m\u001b[0;34m]\u001b[0m\u001b[0;34m,\u001b[0m \u001b[0mmethod\u001b[0m\u001b[0;34m=\u001b[0m\u001b[0mmethod\u001b[0m\u001b[0;34m,\u001b[0m \u001b[0mtolerance\u001b[0m\u001b[0;34m=\u001b[0m\u001b[0mtolerance\u001b[0m\u001b[0;34m)\u001b[0m\u001b[0;34m\u001b[0m\u001b[0;34m\u001b[0m\u001b[0m\n",
      "\u001b[0;32mpandas/_libs/index.pyx\u001b[0m in \u001b[0;36mpandas._libs.index.IndexEngine.get_loc\u001b[0;34m()\u001b[0m\n",
      "\u001b[0;32mpandas/_libs/index.pyx\u001b[0m in \u001b[0;36mpandas._libs.index.IndexEngine.get_loc\u001b[0;34m()\u001b[0m\n",
      "\u001b[0;32mpandas/_libs/hashtable_class_helper.pxi\u001b[0m in \u001b[0;36mpandas._libs.hashtable.PyObjectHashTable.get_item\u001b[0;34m()\u001b[0m\n",
      "\u001b[0;32mpandas/_libs/hashtable_class_helper.pxi\u001b[0m in \u001b[0;36mpandas._libs.hashtable.PyObjectHashTable.get_item\u001b[0;34m()\u001b[0m\n",
      "\u001b[0;31mKeyError\u001b[0m: 'self_value_c'"
     ]
    }
   ],
   "source": [
    "for sub in subjects:\n",
    "    # Create subject directory\n",
    "    out_dir = opj(model_dir, sub, 'func')\n",
    "    if not os.path.isdir(out_dir):\n",
    "        os.makedirs(out_dir, exist_ok=True)\n",
    "    print('Saving model specification to: %s' % out_dir)\n",
    "\n",
    "    # Search for event files\n",
    "    sub_dir = opj(data_dir, sub, 'func')\n",
    "    event_files = glob.glob(opj(sub_dir, '*task-self*events.tsv'))\n",
    "    print('Found functional runs: %s' % event_files)\n",
    "\n",
    "    # Iterate over event files\n",
    "    for event_f in event_files:\n",
    "        events = pd.read_csv(event_f, sep='\\t')\n",
    "        \n",
    "        # Main effect of trial\n",
    "        trials = events.copy()[['onset', 'duration', 'trial_type']]\n",
    "\n",
    "        # Motor response\n",
    "        motor_response = pd.DataFrame()\n",
    "        motor_response['onset'] = events['onset'] + events['response_time']\n",
    "        motor_response['duration'] = 0.\n",
    "        motor_response['trial_type'] = ['motor-%s' % (d) for d in np.where(events.choice == 1, 'left', 'right')]\n",
    "        motor_response.dropna(inplace=True)\n",
    "\n",
    "        # Chosen value\n",
    "        chosen_value = trials.copy()\n",
    "        chosen_value['trial_type'] = 'self-chosen'\n",
    "        chosen_value['amplitude'] = events['self_value_c']\n",
    "        chosen_value.dropna(inplace=True)\n",
    "\n",
    "        # Unchosen value\n",
    "        unchosen_value = trials.copy()\n",
    "        unchosen_value['trial_type'] = 'self-unchosen'\n",
    "        unchosen_value['amplitude'] = np.where(events['choice'] == 1, events['self_value2'], events['self_value1'])\n",
    "        unchosen_value.dropna(inplace=True)\n",
    "\n",
    "        # Build model\n",
    "        model = pd.concat([trials, motor_response, chosen_value, unchosen_value])\n",
    "        model = model[['onset', 'duration', 'trial_type', 'amplitude']]\n",
    "        model.sort_values(axis=0, by=['onset', 'trial_type'], inplace=True)\n",
    "        model.reset_index(drop=True, inplace=True)\n",
    "\n",
    "        # Save output\n",
    "        out_f = os.path.basename(event_f).replace('_run', '_model-value_run')\n",
    "        out_path = opj(out_dir, out_f)\n",
    "        model.to_csv(out_path, sep='\\t', index=None)"
   ]
  },
  {
   "cell_type": "markdown",
   "metadata": {},
   "source": [
    "## Test"
   ]
  },
  {
   "cell_type": "markdown",
   "metadata": {},
   "source": [
    "Contrasts:"
   ]
  },
  {
   "cell_type": "code",
   "execution_count": 4,
   "metadata": {},
   "outputs": [],
   "source": [
    "test_names = ['test', 'motor-left', 'motor-right', \n",
    "              'self-chosen', 'self-unchosen',\n",
    "              'other-chosen', 'other-unchosen']\n",
    "test_con = [\n",
    "    ('self: chosen > unchosen', 'T', test_names, [0, 0, 0, 1, -1, 0, 0]),\n",
    "    ('self: unchosen > chosen', 'T', test_names, [0, 0, 0, -1, 1, 0, 0]),\n",
    "    ('other: chosen > unchosen', 'T', test_names, [0, 0, 0, 0, 0, 1, -1]),\n",
    "    ('other: unchosen > chosen', 'T', test_names, [0, 0, 0, 0, 0, -1, 1]),\n",
    "    ('left > right', 'T', test_names, [0, 1, -1, 0, 0, 0, 0]),\n",
    "    ('right > left', 'T', test_names, [0, -1, 1, 0, 0, 0, 0]),\n",
    "    ('task', 'T', test_names, [1, 0, 0, 0, 0, 0, 0]),\n",
    "    ('rest', 'T', test_names, [-1, 0, 0, 0, 0, 0, 0])\n",
    "]\n",
    "\n",
    "test_con_out = opj(model_dir, 'task-test_model-value.json')\n",
    "with open(test_con_out, 'w') as fp:\n",
    "    json.dump(test_con, fp, indent=4)"
   ]
  },
  {
   "cell_type": "markdown",
   "metadata": {},
   "source": [
    "Make event files:"
   ]
  },
  {
   "cell_type": "code",
   "execution_count": 9,
   "metadata": {},
   "outputs": [
    {
     "data": {
      "text/html": [
       "<div>\n",
       "<style scoped>\n",
       "    .dataframe tbody tr th:only-of-type {\n",
       "        vertical-align: middle;\n",
       "    }\n",
       "\n",
       "    .dataframe tbody tr th {\n",
       "        vertical-align: top;\n",
       "    }\n",
       "\n",
       "    .dataframe thead th {\n",
       "        text-align: right;\n",
       "    }\n",
       "</style>\n",
       "<table border=\"1\" class=\"dataframe\">\n",
       "  <thead>\n",
       "    <tr style=\"text-align: right;\">\n",
       "      <th></th>\n",
       "      <th>onset</th>\n",
       "      <th>duration</th>\n",
       "      <th>trial_type</th>\n",
       "      <th>response_time</th>\n",
       "      <th>choice</th>\n",
       "      <th>outcome</th>\n",
       "      <th>Value_c</th>\n",
       "      <th>Value1</th>\n",
       "      <th>Value2</th>\n",
       "      <th>W1</th>\n",
       "      <th>...</th>\n",
       "      <th>SelfValue1</th>\n",
       "      <th>SelfValue2</th>\n",
       "      <th>stim_1</th>\n",
       "      <th>valence_1</th>\n",
       "      <th>setting_1</th>\n",
       "      <th>genre_1</th>\n",
       "      <th>stim_2</th>\n",
       "      <th>valence_2</th>\n",
       "      <th>setting_2</th>\n",
       "      <th>genre_2</th>\n",
       "    </tr>\n",
       "  </thead>\n",
       "  <tbody>\n",
       "    <tr>\n",
       "      <th>0</th>\n",
       "      <td>4.015</td>\n",
       "      <td>3.0</td>\n",
       "      <td>self</td>\n",
       "      <td>1.873</td>\n",
       "      <td>1</td>\n",
       "      <td>0.0</td>\n",
       "      <td>-0.384</td>\n",
       "      <td>-0.384</td>\n",
       "      <td>0.199</td>\n",
       "      <td>0.292</td>\n",
       "      <td>...</td>\n",
       "      <td>-0.021</td>\n",
       "      <td>0.544</td>\n",
       "      <td>31</td>\n",
       "      <td>negative</td>\n",
       "      <td>futuristic</td>\n",
       "      <td>action</td>\n",
       "      <td>13</td>\n",
       "      <td>positive</td>\n",
       "      <td>futuristic</td>\n",
       "      <td>action</td>\n",
       "    </tr>\n",
       "    <tr>\n",
       "      <th>1</th>\n",
       "      <td>11.581</td>\n",
       "      <td>3.0</td>\n",
       "      <td>self</td>\n",
       "      <td>1.081</td>\n",
       "      <td>2</td>\n",
       "      <td>1.0</td>\n",
       "      <td>0.384</td>\n",
       "      <td>-0.617</td>\n",
       "      <td>0.384</td>\n",
       "      <td>0.292</td>\n",
       "      <td>...</td>\n",
       "      <td>0.277</td>\n",
       "      <td>0.021</td>\n",
       "      <td>26</td>\n",
       "      <td>negative</td>\n",
       "      <td>futuristic</td>\n",
       "      <td>romance</td>\n",
       "      <td>4</td>\n",
       "      <td>positive</td>\n",
       "      <td>historical</td>\n",
       "      <td>romance</td>\n",
       "    </tr>\n",
       "    <tr>\n",
       "      <th>2</th>\n",
       "      <td>19.548</td>\n",
       "      <td>3.0</td>\n",
       "      <td>self</td>\n",
       "      <td>1.285</td>\n",
       "      <td>1</td>\n",
       "      <td>1.0</td>\n",
       "      <td>0.384</td>\n",
       "      <td>0.384</td>\n",
       "      <td>0.034</td>\n",
       "      <td>0.292</td>\n",
       "      <td>...</td>\n",
       "      <td>0.021</td>\n",
       "      <td>-0.843</td>\n",
       "      <td>4</td>\n",
       "      <td>positive</td>\n",
       "      <td>historical</td>\n",
       "      <td>romance</td>\n",
       "      <td>24</td>\n",
       "      <td>negative</td>\n",
       "      <td>historical</td>\n",
       "      <td>action</td>\n",
       "    </tr>\n",
       "    <tr>\n",
       "      <th>3</th>\n",
       "      <td>27.798</td>\n",
       "      <td>3.0</td>\n",
       "      <td>self</td>\n",
       "      <td>1.175</td>\n",
       "      <td>2</td>\n",
       "      <td>1.0</td>\n",
       "      <td>0.617</td>\n",
       "      <td>0.034</td>\n",
       "      <td>0.617</td>\n",
       "      <td>0.292</td>\n",
       "      <td>...</td>\n",
       "      <td>-0.843</td>\n",
       "      <td>-0.277</td>\n",
       "      <td>24</td>\n",
       "      <td>negative</td>\n",
       "      <td>historical</td>\n",
       "      <td>action</td>\n",
       "      <td>8</td>\n",
       "      <td>positive</td>\n",
       "      <td>historical</td>\n",
       "      <td>action</td>\n",
       "    </tr>\n",
       "    <tr>\n",
       "      <th>4</th>\n",
       "      <td>35.848</td>\n",
       "      <td>3.0</td>\n",
       "      <td>self</td>\n",
       "      <td>1.150</td>\n",
       "      <td>1</td>\n",
       "      <td>1.0</td>\n",
       "      <td>-0.384</td>\n",
       "      <td>-0.384</td>\n",
       "      <td>-0.617</td>\n",
       "      <td>0.292</td>\n",
       "      <td>...</td>\n",
       "      <td>-0.021</td>\n",
       "      <td>0.277</td>\n",
       "      <td>30</td>\n",
       "      <td>negative</td>\n",
       "      <td>futuristic</td>\n",
       "      <td>action</td>\n",
       "      <td>27</td>\n",
       "      <td>negative</td>\n",
       "      <td>futuristic</td>\n",
       "      <td>romance</td>\n",
       "    </tr>\n",
       "  </tbody>\n",
       "</table>\n",
       "<p>5 rows × 23 columns</p>\n",
       "</div>"
      ],
      "text/plain": [
       "    onset  duration trial_type  response_time  choice  outcome  Value_c  \\\n",
       "0   4.015       3.0       self          1.873       1      0.0   -0.384   \n",
       "1  11.581       3.0       self          1.081       2      1.0    0.384   \n",
       "2  19.548       3.0       self          1.285       1      1.0    0.384   \n",
       "3  27.798       3.0       self          1.175       2      1.0    0.617   \n",
       "4  35.848       3.0       self          1.150       1      1.0   -0.384   \n",
       "\n",
       "   Value1  Value2     W1   ...     SelfValue1  SelfValue2  stim_1  valence_1  \\\n",
       "0  -0.384   0.199  0.292   ...         -0.021       0.544      31   negative   \n",
       "1  -0.617   0.384  0.292   ...          0.277       0.021      26   negative   \n",
       "2   0.384   0.034  0.292   ...          0.021      -0.843       4   positive   \n",
       "3   0.034   0.617  0.292   ...         -0.843      -0.277      24   negative   \n",
       "4  -0.384  -0.617  0.292   ...         -0.021       0.277      30   negative   \n",
       "\n",
       "    setting_1  genre_1 stim_2 valence_2   setting_2  genre_2  \n",
       "0  futuristic   action     13  positive  futuristic   action  \n",
       "1  futuristic  romance      4  positive  historical  romance  \n",
       "2  historical  romance     24  negative  historical   action  \n",
       "3  historical   action      8  positive  historical   action  \n",
       "4  futuristic   action     27  negative  futuristic  romance  \n",
       "\n",
       "[5 rows x 23 columns]"
      ]
     },
     "execution_count": 9,
     "metadata": {},
     "output_type": "execute_result"
    }
   ],
   "source": [
    "events.head()"
   ]
  },
  {
   "cell_type": "code",
   "execution_count": 17,
   "metadata": {},
   "outputs": [
    {
     "data": {
      "text/plain": [
       "'/scratch/groups/hyo/OPUS/BIDS_data/sub-03/func/sub-03_task-test_run-01_events.tsv'"
      ]
     },
     "execution_count": 17,
     "metadata": {},
     "output_type": "execute_result"
    }
   ],
   "source": [
    "event_f"
   ]
  },
  {
   "cell_type": "code",
   "execution_count": 43,
   "metadata": {},
   "outputs": [
    {
     "name": "stdout",
     "output_type": "stream",
     "text": [
      "Saving model specification to: /scratch/groups/hyo/OPUS/BIDS_data/derivatives/l1model/sub-03/func\n",
      "Found functional runs: ['/scratch/groups/hyo/OPUS/BIDS_data/sub-03/func/sub-03_task-test_run-01_events.tsv', '/scratch/groups/hyo/OPUS/BIDS_data/sub-03/func/sub-03_task-test_run-02_events.tsv']\n",
      "Reading data from: /scratch/groups/hyo/OPUS/BIDS_data/sub-03/func/sub-03_task-test_run-01_events.tsv\n",
      "Saving event file to: /scratch/groups/hyo/OPUS/BIDS_data/derivatives/l1model/sub-03/func/sub-03_task-test_model-value_run-01_events.tsv\n"
     ]
    },
    {
     "name": "stderr",
     "output_type": "stream",
     "text": [
      "/opt/miniconda-latest/envs/neuro/lib/python3.6/site-packages/ipykernel_launcher.py:56: FutureWarning: Sorting because non-concatenation axis is not aligned. A future version\n",
      "of pandas will change to not sort by default.\n",
      "\n",
      "To accept the future behavior, pass 'sort=False'.\n",
      "\n",
      "To retain the current behavior and silence the warning, pass 'sort=True'.\n",
      "\n"
     ]
    },
    {
     "name": "stdout",
     "output_type": "stream",
     "text": [
      "Reading data from: /scratch/groups/hyo/OPUS/BIDS_data/sub-03/func/sub-03_task-test_run-02_events.tsv\n",
      "Saving event file to: /scratch/groups/hyo/OPUS/BIDS_data/derivatives/l1model/sub-03/func/sub-03_task-test_model-value_run-02_events.tsv\n",
      "Saving model specification to: /scratch/groups/hyo/OPUS/BIDS_data/derivatives/l1model/sub-04/func\n",
      "Found functional runs: ['/scratch/groups/hyo/OPUS/BIDS_data/sub-04/func/sub-04_task-test_run-01_events.tsv', '/scratch/groups/hyo/OPUS/BIDS_data/sub-04/func/sub-04_task-test_run-02_events.tsv']\n",
      "Reading data from: /scratch/groups/hyo/OPUS/BIDS_data/sub-04/func/sub-04_task-test_run-01_events.tsv\n",
      "Saving event file to: /scratch/groups/hyo/OPUS/BIDS_data/derivatives/l1model/sub-04/func/sub-04_task-test_model-value_run-01_events.tsv\n",
      "Reading data from: /scratch/groups/hyo/OPUS/BIDS_data/sub-04/func/sub-04_task-test_run-02_events.tsv\n",
      "Saving event file to: /scratch/groups/hyo/OPUS/BIDS_data/derivatives/l1model/sub-04/func/sub-04_task-test_model-value_run-02_events.tsv\n",
      "Saving model specification to: /scratch/groups/hyo/OPUS/BIDS_data/derivatives/l1model/sub-05/func\n",
      "Found functional runs: ['/scratch/groups/hyo/OPUS/BIDS_data/sub-05/func/sub-05_task-test_run-01_events.tsv', '/scratch/groups/hyo/OPUS/BIDS_data/sub-05/func/sub-05_task-test_run-02_events.tsv']\n",
      "Reading data from: /scratch/groups/hyo/OPUS/BIDS_data/sub-05/func/sub-05_task-test_run-01_events.tsv\n",
      "Saving event file to: /scratch/groups/hyo/OPUS/BIDS_data/derivatives/l1model/sub-05/func/sub-05_task-test_model-value_run-01_events.tsv\n",
      "Reading data from: /scratch/groups/hyo/OPUS/BIDS_data/sub-05/func/sub-05_task-test_run-02_events.tsv\n",
      "Saving event file to: /scratch/groups/hyo/OPUS/BIDS_data/derivatives/l1model/sub-05/func/sub-05_task-test_model-value_run-02_events.tsv\n",
      "Saving model specification to: /scratch/groups/hyo/OPUS/BIDS_data/derivatives/l1model/sub-06/func\n",
      "Found functional runs: ['/scratch/groups/hyo/OPUS/BIDS_data/sub-06/func/sub-06_task-test_run-01_events.tsv', '/scratch/groups/hyo/OPUS/BIDS_data/sub-06/func/sub-06_task-test_run-02_events.tsv']\n",
      "Reading data from: /scratch/groups/hyo/OPUS/BIDS_data/sub-06/func/sub-06_task-test_run-01_events.tsv\n",
      "Saving event file to: /scratch/groups/hyo/OPUS/BIDS_data/derivatives/l1model/sub-06/func/sub-06_task-test_model-value_run-01_events.tsv\n",
      "Reading data from: /scratch/groups/hyo/OPUS/BIDS_data/sub-06/func/sub-06_task-test_run-02_events.tsv\n",
      "Saving event file to: /scratch/groups/hyo/OPUS/BIDS_data/derivatives/l1model/sub-06/func/sub-06_task-test_model-value_run-02_events.tsv\n",
      "Saving model specification to: /scratch/groups/hyo/OPUS/BIDS_data/derivatives/l1model/sub-07/func\n",
      "Found functional runs: ['/scratch/groups/hyo/OPUS/BIDS_data/sub-07/func/sub-07_task-test_run-02_events.tsv', '/scratch/groups/hyo/OPUS/BIDS_data/sub-07/func/sub-07_task-test_run-01_events.tsv']\n",
      "Reading data from: /scratch/groups/hyo/OPUS/BIDS_data/sub-07/func/sub-07_task-test_run-02_events.tsv\n",
      "Saving event file to: /scratch/groups/hyo/OPUS/BIDS_data/derivatives/l1model/sub-07/func/sub-07_task-test_model-value_run-02_events.tsv\n",
      "Reading data from: /scratch/groups/hyo/OPUS/BIDS_data/sub-07/func/sub-07_task-test_run-01_events.tsv\n",
      "Saving event file to: /scratch/groups/hyo/OPUS/BIDS_data/derivatives/l1model/sub-07/func/sub-07_task-test_model-value_run-01_events.tsv\n",
      "Saving model specification to: /scratch/groups/hyo/OPUS/BIDS_data/derivatives/l1model/sub-08/func\n",
      "Found functional runs: ['/scratch/groups/hyo/OPUS/BIDS_data/sub-08/func/sub-08_task-test_run-02_events.tsv', '/scratch/groups/hyo/OPUS/BIDS_data/sub-08/func/sub-08_task-test_run-01_events.tsv']\n",
      "Reading data from: /scratch/groups/hyo/OPUS/BIDS_data/sub-08/func/sub-08_task-test_run-02_events.tsv\n",
      "Saving event file to: /scratch/groups/hyo/OPUS/BIDS_data/derivatives/l1model/sub-08/func/sub-08_task-test_model-value_run-02_events.tsv\n",
      "Reading data from: /scratch/groups/hyo/OPUS/BIDS_data/sub-08/func/sub-08_task-test_run-01_events.tsv\n",
      "Saving event file to: /scratch/groups/hyo/OPUS/BIDS_data/derivatives/l1model/sub-08/func/sub-08_task-test_model-value_run-01_events.tsv\n"
     ]
    }
   ],
   "source": [
    "for sub in subjects:\n",
    "    # Create subject directory\n",
    "    out_dir = opj(model_dir, sub, 'func')\n",
    "    if not os.path.isdir(out_dir):\n",
    "        os.makedirs(out_dir, exist_ok=True)\n",
    "    print('Saving model specification to: %s' % out_dir)\n",
    "\n",
    "    # Search for event files\n",
    "    sub_dir = opj(data_dir, sub, 'func')\n",
    "    event_files = glob.glob(opj(sub_dir, '*task-test*events.tsv'))\n",
    "    print('Found functional runs: %s' % event_files)\n",
    "\n",
    "    # Iterate over event files\n",
    "    for event_f in event_files:\n",
    "        print('Reading data from: %s' % event_f)\n",
    "        events = pd.read_csv(event_f, sep='\\t')\n",
    "\n",
    "        # Main effect of trial\n",
    "        trials = events.copy()[['onset', 'duration', 'trial_type']]\n",
    "        trials['trial_type'] = 'test'\n",
    "\n",
    "        # Motor response\n",
    "        motor_response = pd.DataFrame()\n",
    "        motor_response['onset'] = events['onset'] + events['response_time']\n",
    "        motor_response['duration'] = 0.\n",
    "        motor_response['trial_type'] = ['motor-%s' % (d) for d in np.where(events.choice == 1, 'left', 'right')]\n",
    "        motor_response.dropna(inplace=True)\n",
    "\n",
    "        ### Self-relevant value ###\n",
    "        # Chosen\n",
    "        self_chosen = trials.copy()\n",
    "        self_chosen['trial_type'] = 'self-chosen'\n",
    "        self_chosen['amplitude'] = events['SelfValue_c']\n",
    "        self_chosen.dropna(inplace=True)\n",
    "\n",
    "        # Unchosen\n",
    "        self_unchosen = trials.copy()\n",
    "        self_unchosen['trial_type'] = 'self-unchosen'\n",
    "        self_unchosen['amplitude'] = np.where(events['choice'] == 1, events['SelfValue2'], events['SelfValue1'])\n",
    "        self_unchosen.dropna(inplace=True)\n",
    "\n",
    "        ### Other-relevant value ###\n",
    "        # Chosen\n",
    "        other_chosen = trials.copy()\n",
    "        other_chosen['trial_type'] = 'other-chosen'\n",
    "        other_chosen['amplitude'] = events['Value_c']\n",
    "        other_chosen.dropna(inplace=True)\n",
    "\n",
    "        # Unchosen\n",
    "        other_unchosen = trials.copy()\n",
    "        other_unchosen['trial_type'] = 'other-unchosen'\n",
    "        other_unchosen['amplitude'] = np.where(events['choice'] == 1, events['Value2'], events['Value1'])\n",
    "        other_unchosen.dropna(inplace=True)\n",
    "\n",
    "        # Build model\n",
    "        model = pd.concat([trials, motor_response, self_chosen, self_unchosen, other_chosen, other_unchosen])\n",
    "        model = model[['onset', 'duration', 'trial_type', 'amplitude']]\n",
    "        model.sort_values(axis=0, by=['onset', 'trial_type'], inplace=True)\n",
    "        model.reset_index(drop=True, inplace=True)\n",
    "\n",
    "        # # Save output\n",
    "        out_f = os.path.basename(event_f).replace('_run', '_model-value_run')\n",
    "        out_path = opj(out_dir, out_f)\n",
    "        print('Saving event file to: %s' % out_path)\n",
    "        model.to_csv(out_path, sep='\\t', index=None)"
   ]
  },
  {
   "cell_type": "markdown",
   "metadata": {},
   "source": [
    "## Training"
   ]
  },
  {
   "cell_type": "markdown",
   "metadata": {},
   "source": [
    "Contrasts:"
   ]
  },
  {
   "cell_type": "code",
   "execution_count": null,
   "metadata": {},
   "outputs": [],
   "source": []
  },
  {
   "cell_type": "markdown",
   "metadata": {},
   "source": [
    "Make event files:"
   ]
  },
  {
   "cell_type": "code",
   "execution_count": null,
   "metadata": {},
   "outputs": [],
   "source": []
  },
  {
   "cell_type": "markdown",
   "metadata": {},
   "source": [
    "## Probe"
   ]
  },
  {
   "cell_type": "markdown",
   "metadata": {},
   "source": [
    "Contrasts:"
   ]
  },
  {
   "cell_type": "code",
   "execution_count": null,
   "metadata": {},
   "outputs": [],
   "source": []
  },
  {
   "cell_type": "markdown",
   "metadata": {},
   "source": [
    "Make event files:"
   ]
  },
  {
   "cell_type": "code",
   "execution_count": null,
   "metadata": {},
   "outputs": [],
   "source": []
  }
 ],
 "metadata": {
  "kernelspec": {
   "display_name": "Python [conda env:neuro] *",
   "language": "python",
   "name": "conda-env-neuro-py"
  },
  "language_info": {
   "codemirror_mode": {
    "name": "ipython",
    "version": 3
   },
   "file_extension": ".py",
   "mimetype": "text/x-python",
   "name": "python",
   "nbconvert_exporter": "python",
   "pygments_lexer": "ipython3",
   "version": "3.6.7"
  }
 },
 "nbformat": 4,
 "nbformat_minor": 2
}
