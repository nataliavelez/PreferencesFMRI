{
 "cells": [
  {
   "cell_type": "markdown",
   "metadata": {},
   "source": [
    "# Prepare model files"
   ]
  },
  {
   "cell_type": "code",
   "execution_count": 1,
   "metadata": {},
   "outputs": [],
   "source": [
    "import os\n",
    "import glob\n",
    "import json\n",
    "from os.path import join as opj\n",
    "import numpy as np\n",
    "import pandas as pd"
   ]
  },
  {
   "cell_type": "markdown",
   "metadata": {},
   "source": [
    "Project directories:"
   ]
  },
  {
   "cell_type": "code",
   "execution_count": 2,
   "metadata": {},
   "outputs": [
    {
     "name": "stdout",
     "output_type": "stream",
     "text": [
      "Reading data from: /scratch/groups/hyo/OPUS/BIDS_data\n",
      "Placing model specification in: /scratch/groups/hyo/OPUS/BIDS_data/derivatives/l1model\n"
     ]
    }
   ],
   "source": [
    "scratch_dir = os.environ['PI_SCRATCH']\n",
    "data_dir = opj(scratch_dir, 'OPUS', 'BIDS_data')\n",
    "model_dir = opj(data_dir, 'derivatives', 'l1model')\n",
    "\n",
    "if not os.path.isdir(model_dir):\n",
    "    os.mkdir(model_dir)\n",
    "    \n",
    "print('Reading data from: %s' % data_dir)\n",
    "print('Placing model specification in: %s' % model_dir)"
   ]
  },
  {
   "cell_type": "markdown",
   "metadata": {},
   "source": [
    "Find subjects:"
   ]
  },
  {
   "cell_type": "code",
   "execution_count": 3,
   "metadata": {},
   "outputs": [
    {
     "name": "stdout",
     "output_type": "stream",
     "text": [
      "Found subjects: ['sub-03', 'sub-04', 'sub-05', 'sub-06', 'sub-07', 'sub-08']\n"
     ]
    }
   ],
   "source": [
    "subjects = [os.path.basename(x) for x in glob.glob(opj(data_dir, 'sub-*'))]\n",
    "print('Found subjects: %s' % subjects)"
   ]
  },
  {
   "cell_type": "markdown",
   "metadata": {},
   "source": [
    "Helper functions:"
   ]
  },
  {
   "cell_type": "code",
   "execution_count": 4,
   "metadata": {},
   "outputs": [],
   "source": [
    "mean_center = lambda x: x - np.nanmean(x)"
   ]
  },
  {
   "cell_type": "markdown",
   "metadata": {},
   "source": [
    "## Self task"
   ]
  },
  {
   "cell_type": "markdown",
   "metadata": {},
   "source": [
    "Contrasts:"
   ]
  },
  {
   "cell_type": "code",
   "execution_count": 5,
   "metadata": {},
   "outputs": [],
   "source": [
    "self_names = ['self', 'motor-left', 'motor-right', 'self-chosen', 'self-unchosen']\n",
    "self_con = [\n",
    "    ('self: chosen', 'T', self_names, [0, 0, 0, 1, 0]),\n",
    "    ('self:  unchosen', 'T', self_names, [0, 0, 0, 0, 1]),\n",
    "    ('self: chosen > unchosen', 'T', self_names, [0, 0, 0, 1, -1]),\n",
    "    ('self: unchosen > chosen', 'T', self_names, [0, 0, 0, -1, 1]),\n",
    "    ('left > right', 'T', self_names, [0, 1, -1, 0, 0]),\n",
    "    ('right > left', 'T', self_names, [0, -1, 1, 0, 0]),\n",
    "    ('task', 'T', self_names, [1, 0, 0, 0, 0]),\n",
    "    ('rest', 'T', self_names, [-1, 0, 0, 0, 0])\n",
    "]\n",
    "\n",
    "self_con_out = opj(model_dir, 'task-self_model-value.json')\n",
    "with open(self_con_out, 'w') as fp:\n",
    "    json.dump(self_con, fp, indent=4)"
   ]
  },
  {
   "cell_type": "markdown",
   "metadata": {},
   "source": [
    "Make event files:"
   ]
  },
  {
   "cell_type": "code",
   "execution_count": 6,
   "metadata": {},
   "outputs": [
    {
     "name": "stdout",
     "output_type": "stream",
     "text": [
      "Saving model specification to: /scratch/groups/hyo/OPUS/BIDS_data/derivatives/l1model/sub-03/func\n",
      "Found functional runs: ['/scratch/groups/hyo/OPUS/BIDS_data/sub-03/func/sub-03_task-self_run-02_events.tsv', '/scratch/groups/hyo/OPUS/BIDS_data/sub-03/func/sub-03_task-self_run-01_events.tsv']\n"
     ]
    },
    {
     "name": "stderr",
     "output_type": "stream",
     "text": [
      "/opt/miniconda-latest/envs/neuro/lib/python3.6/site-packages/ipykernel_launcher.py:41: FutureWarning: Sorting because non-concatenation axis is not aligned. A future version\n",
      "of pandas will change to not sort by default.\n",
      "\n",
      "To accept the future behavior, pass 'sort=False'.\n",
      "\n",
      "To retain the current behavior and silence the warning, pass 'sort=True'.\n",
      "\n"
     ]
    },
    {
     "name": "stdout",
     "output_type": "stream",
     "text": [
      "Saving model specification to: /scratch/groups/hyo/OPUS/BIDS_data/derivatives/l1model/sub-04/func\n",
      "Found functional runs: ['/scratch/groups/hyo/OPUS/BIDS_data/sub-04/func/sub-04_task-self_run-02_events.tsv', '/scratch/groups/hyo/OPUS/BIDS_data/sub-04/func/sub-04_task-self_run-01_events.tsv']\n",
      "Saving model specification to: /scratch/groups/hyo/OPUS/BIDS_data/derivatives/l1model/sub-05/func\n",
      "Found functional runs: ['/scratch/groups/hyo/OPUS/BIDS_data/sub-05/func/sub-05_task-self_run-01_events.tsv', '/scratch/groups/hyo/OPUS/BIDS_data/sub-05/func/sub-05_task-self_run-02_events.tsv']\n",
      "Saving model specification to: /scratch/groups/hyo/OPUS/BIDS_data/derivatives/l1model/sub-06/func\n",
      "Found functional runs: ['/scratch/groups/hyo/OPUS/BIDS_data/sub-06/func/sub-06_task-self_run-01_events.tsv', '/scratch/groups/hyo/OPUS/BIDS_data/sub-06/func/sub-06_task-self_run-02_events.tsv']\n",
      "Saving model specification to: /scratch/groups/hyo/OPUS/BIDS_data/derivatives/l1model/sub-07/func\n",
      "Found functional runs: ['/scratch/groups/hyo/OPUS/BIDS_data/sub-07/func/sub-07_task-self_run-02_events.tsv', '/scratch/groups/hyo/OPUS/BIDS_data/sub-07/func/sub-07_task-self_run-01_events.tsv']\n",
      "Saving model specification to: /scratch/groups/hyo/OPUS/BIDS_data/derivatives/l1model/sub-08/func\n",
      "Found functional runs: ['/scratch/groups/hyo/OPUS/BIDS_data/sub-08/func/sub-08_task-self_run-01_events.tsv', '/scratch/groups/hyo/OPUS/BIDS_data/sub-08/func/sub-08_task-self_run-02_events.tsv']\n"
     ]
    }
   ],
   "source": [
    "for sub in subjects:\n",
    "    # Create subject directory\n",
    "    out_dir = opj(model_dir, sub, 'func')\n",
    "    if not os.path.isdir(out_dir):\n",
    "        os.makedirs(out_dir, exist_ok=True)\n",
    "    print('Saving model specification to: %s' % out_dir)\n",
    "\n",
    "    # Search for event files\n",
    "    sub_dir = opj(data_dir, sub, 'func')\n",
    "    event_files = glob.glob(opj(sub_dir, '*task-self*events.tsv'))\n",
    "    print('Found functional runs: %s' % event_files)\n",
    "\n",
    "    # Iterate over event files\n",
    "    for event_f in event_files:\n",
    "        events = pd.read_csv(event_f, sep='\\t')\n",
    "        \n",
    "        # Main effect of trial\n",
    "        trials = events.copy()[['onset', 'duration', 'trial_type']]\n",
    "\n",
    "        # Motor response\n",
    "        motor_response = pd.DataFrame()\n",
    "        motor_response['onset'] = events['onset'] + events['response_time']\n",
    "        motor_response['duration'] = 0.\n",
    "        motor_response['trial_type'] = ['motor-%s' % (d) for d in np.where(events.choice == 1, 'left', 'right')]\n",
    "        motor_response.dropna(inplace=True)\n",
    "\n",
    "        # Chosen value\n",
    "        chosen_value = trials.copy()\n",
    "        chosen_value['trial_type'] = 'self-chosen'\n",
    "        chosen_value['amplitude'] = mean_center(events['self_value_c'])\n",
    "        chosen_value.dropna(inplace=True)\n",
    "\n",
    "        # Unchosen value\n",
    "        unchosen_value = trials.copy()\n",
    "        unchosen_value['trial_type'] = 'self-unchosen'\n",
    "        unchosen_value['amplitude'] = np.where(events['choice'] == 1, events['self_value2'], events['self_value1'])\n",
    "        unchosen_value['amplitude'] = mean_center(unchosen_value['amplitude'])\n",
    "        unchosen_value.dropna(inplace=True)\n",
    "\n",
    "        # Build model\n",
    "        model = pd.concat([trials, motor_response, chosen_value, unchosen_value])\n",
    "        model = model[['onset', 'duration', 'trial_type', 'amplitude']]\n",
    "        model.sort_values(axis=0, by=['onset', 'trial_type'], inplace=True)\n",
    "        model.reset_index(drop=True, inplace=True)\n",
    "\n",
    "        # Save output\n",
    "        out_f = os.path.basename(event_f).replace('_run', '_model-value_run')\n",
    "        out_path = opj(out_dir, out_f)\n",
    "        model.to_csv(out_path, sep='\\t', index=None)"
   ]
  },
  {
   "cell_type": "markdown",
   "metadata": {},
   "source": [
    "## Test"
   ]
  },
  {
   "cell_type": "markdown",
   "metadata": {},
   "source": [
    "Contrasts:"
   ]
  },
  {
   "cell_type": "code",
   "execution_count": 7,
   "metadata": {},
   "outputs": [],
   "source": [
    "test_names = ['test', 'motor-left', 'motor-right', \n",
    "              'self-chosen', 'self-unchosen',\n",
    "              'other-chosen', 'other-unchosen']\n",
    "test_con = [\n",
    "    ('self: chosen', 'T', test_names, [0, 0, 0, 1, 0, 0, 0]),\n",
    "    ('self: unchosen', 'T', test_names, [0, 0, 0, 0, 1, 0, 0]),\n",
    "    ('other: chosen', 'T', test_names, [0, 0, 0, 0, 0, 1, 0]),\n",
    "    ('other: unchosen', 'T', test_names, [0, 0, 0, 0, 0, 0, 1]),\n",
    "    ('self: chosen > unchosen', 'T', test_names, [0, 0, 0, 1, -1, 0, 0]),\n",
    "    ('self: unchosen > chosen', 'T', test_names, [0, 0, 0, -1, 1, 0, 0]),\n",
    "    ('other: chosen > unchosen', 'T', test_names, [0, 0, 0, 0, 0, 1, -1]),\n",
    "    ('other: unchosen > chosen', 'T', test_names, [0, 0, 0, 0, 0, -1, 1]),\n",
    "    ('left > right', 'T', test_names, [0, 1, -1, 0, 0, 0, 0]),\n",
    "    ('right > left', 'T', test_names, [0, -1, 1, 0, 0, 0, 0]),\n",
    "    ('task', 'T', test_names, [1, 0, 0, 0, 0, 0, 0]),\n",
    "    ('rest', 'T', test_names, [-1, 0, 0, 0, 0, 0, 0])\n",
    "]\n",
    "\n",
    "test_con_out = opj(model_dir, 'task-test_model-value.json')\n",
    "with open(test_con_out, 'w') as fp:\n",
    "    json.dump(test_con, fp, indent=4)"
   ]
  },
  {
   "cell_type": "markdown",
   "metadata": {},
   "source": [
    "Make event files:"
   ]
  },
  {
   "cell_type": "code",
   "execution_count": 8,
   "metadata": {},
   "outputs": [
    {
     "name": "stdout",
     "output_type": "stream",
     "text": [
      "Saving model specification to: /scratch/groups/hyo/OPUS/BIDS_data/derivatives/l1model/sub-03/func\n",
      "Found functional runs: ['/scratch/groups/hyo/OPUS/BIDS_data/sub-03/func/sub-03_task-test_run-01_events.tsv', '/scratch/groups/hyo/OPUS/BIDS_data/sub-03/func/sub-03_task-test_run-02_events.tsv']\n",
      "Reading data from: /scratch/groups/hyo/OPUS/BIDS_data/sub-03/func/sub-03_task-test_run-01_events.tsv\n",
      "Saving event file to: /scratch/groups/hyo/OPUS/BIDS_data/derivatives/l1model/sub-03/func/sub-03_task-test_model-value_run-01_events.tsv\n",
      "Reading data from: /scratch/groups/hyo/OPUS/BIDS_data/sub-03/func/sub-03_task-test_run-02_events.tsv\n",
      "Saving event file to: /scratch/groups/hyo/OPUS/BIDS_data/derivatives/l1model/sub-03/func/sub-03_task-test_model-value_run-02_events.tsv\n",
      "Saving model specification to: /scratch/groups/hyo/OPUS/BIDS_data/derivatives/l1model/sub-04/func\n",
      "Found functional runs: ['/scratch/groups/hyo/OPUS/BIDS_data/sub-04/func/sub-04_task-test_run-01_events.tsv', '/scratch/groups/hyo/OPUS/BIDS_data/sub-04/func/sub-04_task-test_run-02_events.tsv']\n",
      "Reading data from: /scratch/groups/hyo/OPUS/BIDS_data/sub-04/func/sub-04_task-test_run-01_events.tsv\n"
     ]
    },
    {
     "name": "stderr",
     "output_type": "stream",
     "text": [
      "/opt/miniconda-latest/envs/neuro/lib/python3.6/site-packages/ipykernel_launcher.py:58: FutureWarning: Sorting because non-concatenation axis is not aligned. A future version\n",
      "of pandas will change to not sort by default.\n",
      "\n",
      "To accept the future behavior, pass 'sort=False'.\n",
      "\n",
      "To retain the current behavior and silence the warning, pass 'sort=True'.\n",
      "\n"
     ]
    },
    {
     "name": "stdout",
     "output_type": "stream",
     "text": [
      "Saving event file to: /scratch/groups/hyo/OPUS/BIDS_data/derivatives/l1model/sub-04/func/sub-04_task-test_model-value_run-01_events.tsv\n",
      "Reading data from: /scratch/groups/hyo/OPUS/BIDS_data/sub-04/func/sub-04_task-test_run-02_events.tsv\n",
      "Saving event file to: /scratch/groups/hyo/OPUS/BIDS_data/derivatives/l1model/sub-04/func/sub-04_task-test_model-value_run-02_events.tsv\n",
      "Saving model specification to: /scratch/groups/hyo/OPUS/BIDS_data/derivatives/l1model/sub-05/func\n",
      "Found functional runs: ['/scratch/groups/hyo/OPUS/BIDS_data/sub-05/func/sub-05_task-test_run-01_events.tsv', '/scratch/groups/hyo/OPUS/BIDS_data/sub-05/func/sub-05_task-test_run-02_events.tsv']\n",
      "Reading data from: /scratch/groups/hyo/OPUS/BIDS_data/sub-05/func/sub-05_task-test_run-01_events.tsv\n",
      "Saving event file to: /scratch/groups/hyo/OPUS/BIDS_data/derivatives/l1model/sub-05/func/sub-05_task-test_model-value_run-01_events.tsv\n",
      "Reading data from: /scratch/groups/hyo/OPUS/BIDS_data/sub-05/func/sub-05_task-test_run-02_events.tsv\n",
      "Saving event file to: /scratch/groups/hyo/OPUS/BIDS_data/derivatives/l1model/sub-05/func/sub-05_task-test_model-value_run-02_events.tsv\n",
      "Saving model specification to: /scratch/groups/hyo/OPUS/BIDS_data/derivatives/l1model/sub-06/func\n",
      "Found functional runs: ['/scratch/groups/hyo/OPUS/BIDS_data/sub-06/func/sub-06_task-test_run-01_events.tsv', '/scratch/groups/hyo/OPUS/BIDS_data/sub-06/func/sub-06_task-test_run-02_events.tsv']\n",
      "Reading data from: /scratch/groups/hyo/OPUS/BIDS_data/sub-06/func/sub-06_task-test_run-01_events.tsv\n",
      "Saving event file to: /scratch/groups/hyo/OPUS/BIDS_data/derivatives/l1model/sub-06/func/sub-06_task-test_model-value_run-01_events.tsv\n",
      "Reading data from: /scratch/groups/hyo/OPUS/BIDS_data/sub-06/func/sub-06_task-test_run-02_events.tsv\n",
      "Saving event file to: /scratch/groups/hyo/OPUS/BIDS_data/derivatives/l1model/sub-06/func/sub-06_task-test_model-value_run-02_events.tsv\n",
      "Saving model specification to: /scratch/groups/hyo/OPUS/BIDS_data/derivatives/l1model/sub-07/func\n",
      "Found functional runs: ['/scratch/groups/hyo/OPUS/BIDS_data/sub-07/func/sub-07_task-test_run-02_events.tsv', '/scratch/groups/hyo/OPUS/BIDS_data/sub-07/func/sub-07_task-test_run-01_events.tsv']\n",
      "Reading data from: /scratch/groups/hyo/OPUS/BIDS_data/sub-07/func/sub-07_task-test_run-02_events.tsv\n",
      "Saving event file to: /scratch/groups/hyo/OPUS/BIDS_data/derivatives/l1model/sub-07/func/sub-07_task-test_model-value_run-02_events.tsv\n",
      "Reading data from: /scratch/groups/hyo/OPUS/BIDS_data/sub-07/func/sub-07_task-test_run-01_events.tsv\n",
      "Saving event file to: /scratch/groups/hyo/OPUS/BIDS_data/derivatives/l1model/sub-07/func/sub-07_task-test_model-value_run-01_events.tsv\n",
      "Saving model specification to: /scratch/groups/hyo/OPUS/BIDS_data/derivatives/l1model/sub-08/func\n",
      "Found functional runs: ['/scratch/groups/hyo/OPUS/BIDS_data/sub-08/func/sub-08_task-test_run-02_events.tsv', '/scratch/groups/hyo/OPUS/BIDS_data/sub-08/func/sub-08_task-test_run-01_events.tsv']\n",
      "Reading data from: /scratch/groups/hyo/OPUS/BIDS_data/sub-08/func/sub-08_task-test_run-02_events.tsv\n",
      "Saving event file to: /scratch/groups/hyo/OPUS/BIDS_data/derivatives/l1model/sub-08/func/sub-08_task-test_model-value_run-02_events.tsv\n",
      "Reading data from: /scratch/groups/hyo/OPUS/BIDS_data/sub-08/func/sub-08_task-test_run-01_events.tsv\n",
      "Saving event file to: /scratch/groups/hyo/OPUS/BIDS_data/derivatives/l1model/sub-08/func/sub-08_task-test_model-value_run-01_events.tsv\n"
     ]
    }
   ],
   "source": [
    "for sub in subjects:\n",
    "    # Create subject directory\n",
    "    out_dir = opj(model_dir, sub, 'func')\n",
    "    if not os.path.isdir(out_dir):\n",
    "        os.makedirs(out_dir, exist_ok=True)\n",
    "    print('Saving model specification to: %s' % out_dir)\n",
    "\n",
    "    # Search for event files\n",
    "    sub_dir = opj(data_dir, sub, 'func')\n",
    "    event_files = glob.glob(opj(sub_dir, '*task-test*events.tsv'))\n",
    "    print('Found functional runs: %s' % event_files)\n",
    "\n",
    "    # Iterate over event files\n",
    "    for event_f in event_files:\n",
    "        print('Reading data from: %s' % event_f)\n",
    "        events = pd.read_csv(event_f, sep='\\t')\n",
    "\n",
    "        # Main effect of trial\n",
    "        trials = events.copy()[['onset', 'duration', 'trial_type']]\n",
    "        trials['trial_type'] = 'test'\n",
    "\n",
    "        # Motor response\n",
    "        motor_response = pd.DataFrame()\n",
    "        motor_response['onset'] = events['onset'] + events['response_time']\n",
    "        motor_response['duration'] = 0.\n",
    "        motor_response['trial_type'] = ['motor-%s' % (d) for d in np.where(events.choice == 1, 'left', 'right')]\n",
    "        motor_response.dropna(inplace=True)\n",
    "\n",
    "        ### Self-relevant value ###\n",
    "        # Chosen\n",
    "        self_chosen = trials.copy()\n",
    "        self_chosen['trial_type'] = 'self-chosen'\n",
    "        self_chosen['amplitude'] = mean_center(events['SelfValue_c'])\n",
    "        self_chosen.dropna(inplace=True)\n",
    "\n",
    "        # Unchosen\n",
    "        self_unchosen = trials.copy()\n",
    "        self_unchosen['trial_type'] = 'self-unchosen'\n",
    "        self_unchosen['amplitude'] = np.where(events['choice'] == 1, events['SelfValue2'], events['SelfValue1'])\n",
    "        self_unchosen['amplitude'] = mean_center(self_unchosen['amplitude'])\n",
    "        self_unchosen.dropna(inplace=True)\n",
    "\n",
    "        ### Other-relevant value ###\n",
    "        # Chosen\n",
    "        other_chosen = trials.copy()\n",
    "        other_chosen['trial_type'] = 'other-chosen'\n",
    "        other_chosen['amplitude'] = mean_center(events['Value_c'])\n",
    "        other_chosen.dropna(inplace=True)\n",
    "\n",
    "        # Unchosen\n",
    "        other_unchosen = trials.copy()\n",
    "        other_unchosen['trial_type'] = 'other-unchosen'\n",
    "        other_unchosen['amplitude'] = np.where(events['choice'] == 1, events['Value2'], events['Value1'])\n",
    "        other_unchosen['amplitude'] = mean_center(other_unchosen['amplitude'])\n",
    "        other_unchosen.dropna(inplace=True)\n",
    "\n",
    "        # Build model\n",
    "        model = pd.concat([trials, motor_response, self_chosen, self_unchosen, other_chosen, other_unchosen])\n",
    "        model = model[['onset', 'duration', 'trial_type', 'amplitude']]\n",
    "        model.sort_values(axis=0, by=['onset', 'trial_type'], inplace=True)\n",
    "        model.reset_index(drop=True, inplace=True)\n",
    "\n",
    "        # # Save output\n",
    "        out_f = os.path.basename(event_f).replace('_run', '_model-value_run')\n",
    "        out_path = opj(out_dir, out_f)\n",
    "        print('Saving event file to: %s' % out_path)\n",
    "        model.to_csv(out_path, sep='\\t', index=None)"
   ]
  },
  {
   "cell_type": "markdown",
   "metadata": {},
   "source": [
    "## Training"
   ]
  },
  {
   "cell_type": "markdown",
   "metadata": {},
   "source": [
    "Contrasts:"
   ]
  },
  {
   "cell_type": "code",
   "execution_count": 9,
   "metadata": {},
   "outputs": [],
   "source": [
    "train_names = ['train', 'motor-left', 'motor-right', \n",
    "              'other-chosen', 'other-unchosen', 'PE']\n",
    "train_con = [\n",
    "    ('chosen', 'T', train_names, [0, 0, 0, 1, 0, 0]),\n",
    "    ('unchosen', 'T', train_names, [0, 0, 0, 0, 1, 0]),\n",
    "    ('chosen > unchosen', 'T', train_names, [0, 0, 0, 1, -1, 0]),\n",
    "    ('unchosen > chosen', 'T', train_names, [0, 0, 0, -1, 1, 0]),\n",
    "    ('PE', 'T', train_names, [0, 0, 0, 0, 0, 1]),\n",
    "    ('left > right', 'T', train_names, [0, 1, -1, 0, 0, 0]),\n",
    "    ('right > left', 'T', train_names, [0, -1, 1, 0, 0, 0]),\n",
    "    ('task', 'T', train_names, [1, 0, 0, 0, 0, 0]),\n",
    "    ('rest', 'T', train_names, [-1, 0, 0, 0, 0, 0])\n",
    "]\n",
    "\n",
    "train_con_out = opj(model_dir, 'task-train_model-value.json')\n",
    "with open(train_con_out, 'w') as fp:\n",
    "    json.dump(train_con, fp, indent=4)"
   ]
  },
  {
   "cell_type": "markdown",
   "metadata": {},
   "source": [
    "Make event files:"
   ]
  },
  {
   "cell_type": "code",
   "execution_count": 10,
   "metadata": {},
   "outputs": [
    {
     "name": "stdout",
     "output_type": "stream",
     "text": [
      "Saving model specification to: /scratch/groups/hyo/OPUS/BIDS_data/derivatives/l1model/sub-03/func\n",
      "Found functional runs: ['/scratch/groups/hyo/OPUS/BIDS_data/sub-03/func/sub-03_task-train_run-02_events.tsv', '/scratch/groups/hyo/OPUS/BIDS_data/sub-03/func/sub-03_task-train_run-01_events.tsv']\n",
      "Reading data from: /scratch/groups/hyo/OPUS/BIDS_data/sub-03/func/sub-03_task-train_run-02_events.tsv\n",
      "Saving event file to: /scratch/groups/hyo/OPUS/BIDS_data/derivatives/l1model/sub-03/func/sub-03_task-train_model-value_run-02_events.tsv\n",
      "Reading data from: /scratch/groups/hyo/OPUS/BIDS_data/sub-03/func/sub-03_task-train_run-01_events.tsv\n",
      "Saving event file to: /scratch/groups/hyo/OPUS/BIDS_data/derivatives/l1model/sub-03/func/sub-03_task-train_model-value_run-01_events.tsv\n",
      "Saving model specification to: /scratch/groups/hyo/OPUS/BIDS_data/derivatives/l1model/sub-04/func\n",
      "Found functional runs: ['/scratch/groups/hyo/OPUS/BIDS_data/sub-04/func/sub-04_task-train_run-01_events.tsv', '/scratch/groups/hyo/OPUS/BIDS_data/sub-04/func/sub-04_task-train_run-02_events.tsv']\n",
      "Reading data from: /scratch/groups/hyo/OPUS/BIDS_data/sub-04/func/sub-04_task-train_run-01_events.tsv\n"
     ]
    },
    {
     "name": "stderr",
     "output_type": "stream",
     "text": [
      "/opt/miniconda-latest/envs/neuro/lib/python3.6/site-packages/ipykernel_launcher.py:49: FutureWarning: Sorting because non-concatenation axis is not aligned. A future version\n",
      "of pandas will change to not sort by default.\n",
      "\n",
      "To accept the future behavior, pass 'sort=False'.\n",
      "\n",
      "To retain the current behavior and silence the warning, pass 'sort=True'.\n",
      "\n"
     ]
    },
    {
     "name": "stdout",
     "output_type": "stream",
     "text": [
      "Saving event file to: /scratch/groups/hyo/OPUS/BIDS_data/derivatives/l1model/sub-04/func/sub-04_task-train_model-value_run-01_events.tsv\n",
      "Reading data from: /scratch/groups/hyo/OPUS/BIDS_data/sub-04/func/sub-04_task-train_run-02_events.tsv\n",
      "Saving event file to: /scratch/groups/hyo/OPUS/BIDS_data/derivatives/l1model/sub-04/func/sub-04_task-train_model-value_run-02_events.tsv\n",
      "Saving model specification to: /scratch/groups/hyo/OPUS/BIDS_data/derivatives/l1model/sub-05/func\n",
      "Found functional runs: ['/scratch/groups/hyo/OPUS/BIDS_data/sub-05/func/sub-05_task-train_run-01_events.tsv', '/scratch/groups/hyo/OPUS/BIDS_data/sub-05/func/sub-05_task-train_run-02_events.tsv']\n",
      "Reading data from: /scratch/groups/hyo/OPUS/BIDS_data/sub-05/func/sub-05_task-train_run-01_events.tsv\n",
      "Saving event file to: /scratch/groups/hyo/OPUS/BIDS_data/derivatives/l1model/sub-05/func/sub-05_task-train_model-value_run-01_events.tsv\n",
      "Reading data from: /scratch/groups/hyo/OPUS/BIDS_data/sub-05/func/sub-05_task-train_run-02_events.tsv\n",
      "Saving event file to: /scratch/groups/hyo/OPUS/BIDS_data/derivatives/l1model/sub-05/func/sub-05_task-train_model-value_run-02_events.tsv\n",
      "Saving model specification to: /scratch/groups/hyo/OPUS/BIDS_data/derivatives/l1model/sub-06/func\n",
      "Found functional runs: ['/scratch/groups/hyo/OPUS/BIDS_data/sub-06/func/sub-06_task-train_run-01_events.tsv', '/scratch/groups/hyo/OPUS/BIDS_data/sub-06/func/sub-06_task-train_run-02_events.tsv']\n",
      "Reading data from: /scratch/groups/hyo/OPUS/BIDS_data/sub-06/func/sub-06_task-train_run-01_events.tsv\n",
      "Saving event file to: /scratch/groups/hyo/OPUS/BIDS_data/derivatives/l1model/sub-06/func/sub-06_task-train_model-value_run-01_events.tsv\n",
      "Reading data from: /scratch/groups/hyo/OPUS/BIDS_data/sub-06/func/sub-06_task-train_run-02_events.tsv\n",
      "Saving event file to: /scratch/groups/hyo/OPUS/BIDS_data/derivatives/l1model/sub-06/func/sub-06_task-train_model-value_run-02_events.tsv\n",
      "Saving model specification to: /scratch/groups/hyo/OPUS/BIDS_data/derivatives/l1model/sub-07/func\n",
      "Found functional runs: ['/scratch/groups/hyo/OPUS/BIDS_data/sub-07/func/sub-07_task-train_run-02_events.tsv', '/scratch/groups/hyo/OPUS/BIDS_data/sub-07/func/sub-07_task-train_run-01_events.tsv']\n",
      "Reading data from: /scratch/groups/hyo/OPUS/BIDS_data/sub-07/func/sub-07_task-train_run-02_events.tsv\n",
      "Saving event file to: /scratch/groups/hyo/OPUS/BIDS_data/derivatives/l1model/sub-07/func/sub-07_task-train_model-value_run-02_events.tsv\n",
      "Reading data from: /scratch/groups/hyo/OPUS/BIDS_data/sub-07/func/sub-07_task-train_run-01_events.tsv\n",
      "Saving event file to: /scratch/groups/hyo/OPUS/BIDS_data/derivatives/l1model/sub-07/func/sub-07_task-train_model-value_run-01_events.tsv\n",
      "Saving model specification to: /scratch/groups/hyo/OPUS/BIDS_data/derivatives/l1model/sub-08/func\n",
      "Found functional runs: ['/scratch/groups/hyo/OPUS/BIDS_data/sub-08/func/sub-08_task-train_run-02_events.tsv', '/scratch/groups/hyo/OPUS/BIDS_data/sub-08/func/sub-08_task-train_run-01_events.tsv']\n",
      "Reading data from: /scratch/groups/hyo/OPUS/BIDS_data/sub-08/func/sub-08_task-train_run-02_events.tsv\n",
      "Saving event file to: /scratch/groups/hyo/OPUS/BIDS_data/derivatives/l1model/sub-08/func/sub-08_task-train_model-value_run-02_events.tsv\n",
      "Reading data from: /scratch/groups/hyo/OPUS/BIDS_data/sub-08/func/sub-08_task-train_run-01_events.tsv\n",
      "Saving event file to: /scratch/groups/hyo/OPUS/BIDS_data/derivatives/l1model/sub-08/func/sub-08_task-train_model-value_run-01_events.tsv\n"
     ]
    }
   ],
   "source": [
    "for sub in subjects:\n",
    "    # Create subject directory\n",
    "    out_dir = opj(model_dir, sub, 'func')\n",
    "    if not os.path.isdir(out_dir):\n",
    "        os.makedirs(out_dir, exist_ok=True)\n",
    "    print('Saving model specification to: %s' % out_dir)\n",
    "\n",
    "    # Search for event files\n",
    "    sub_dir = opj(data_dir, sub, 'func')\n",
    "    event_files = glob.glob(opj(sub_dir, '*task-train*events.tsv'))\n",
    "    print('Found functional runs: %s' % event_files)\n",
    "\n",
    "    # Iterate over event files\n",
    "    for event_f in event_files:\n",
    "        print('Reading data from: %s' % event_f)\n",
    "        events = pd.read_csv(event_f, sep='\\t')\n",
    "\n",
    "        # Main effect of trial\n",
    "        trials = events.copy()[['onset', 'duration', 'trial_type']]\n",
    "        trials['trial_type'] = 'train'\n",
    "\n",
    "        # Motor response\n",
    "        motor_response = pd.DataFrame()\n",
    "        motor_response['onset'] = events['onset'] + events['response_time']\n",
    "        motor_response['duration'] = 0.\n",
    "        motor_response['trial_type'] = ['motor-%s' % (d) for d in np.where(events.choice == 1, 'left', 'right')]\n",
    "        motor_response.dropna(inplace=True)\n",
    "\n",
    "        # Chosen\n",
    "        other_chosen = trials.copy()\n",
    "        other_chosen['trial_type'] = 'other-chosen'\n",
    "        other_chosen['amplitude'] = mean_center(events['Value_c'])\n",
    "        other_chosen.dropna(inplace=True)\n",
    "\n",
    "        # Unchosen\n",
    "        other_unchosen = trials.copy()\n",
    "        other_unchosen['trial_type'] = 'other-unchosen'\n",
    "        other_unchosen['amplitude'] = np.where(events['choice'] == 1, events['Value2'], events['Value1'])\n",
    "        other_unchosen['amplitude'] = mean_center(other_unchosen['amplitude'])\n",
    "        other_unchosen.dropna(inplace=True)\n",
    "\n",
    "        # Prediction error\n",
    "        pe = trials.copy()\n",
    "        pe['trial_type'] = 'PE'\n",
    "        pe['amplitude'] = mean_center(events['PE'])\n",
    "        pe.dropna(inplace=True)\n",
    "\n",
    "        # Build model\n",
    "        model = pd.concat([trials, motor_response, other_chosen, other_unchosen, pe])\n",
    "        model = model[['onset', 'duration', 'trial_type', 'amplitude']]\n",
    "        model.sort_values(axis=0, by=['onset', 'trial_type'], inplace=True)\n",
    "        model.reset_index(drop=True, inplace=True)\n",
    "\n",
    "        # # Save output\n",
    "        out_f = os.path.basename(event_f).replace('_run', '_model-value_run')\n",
    "        out_path = opj(out_dir, out_f)\n",
    "        print('Saving event file to: %s' % out_path)\n",
    "        model.to_csv(out_path, sep='\\t', index=None)"
   ]
  },
  {
   "cell_type": "markdown",
   "metadata": {},
   "source": [
    "## Probe"
   ]
  },
  {
   "cell_type": "markdown",
   "metadata": {},
   "source": [
    "Contrasts:"
   ]
  },
  {
   "cell_type": "code",
   "execution_count": null,
   "metadata": {},
   "outputs": [],
   "source": [
    "# Condition names\n",
    "probe_trials = ['trial-%02d' % i for i in range(1, 33)]\n",
    "probe_con_names = ['check'] + probe_trials\n",
    "\n",
    "# Contrast values\n",
    "probe_con_margin = np.zeros((32, 1))\n",
    "probe_con_diag = np.zeros((32, 32))\n",
    "np.fill_diagonal(probe_con_diag, 1)\n",
    "probe_con_vals = np.concatenate((probe_con_margin, probe_con_diag), axis=1)\n",
    "probe_con_vals = probe_con_vals.tolist()\n",
    "\n",
    "# Contrasts\n",
    "probe_con = [(probe_trials[t], 'T', probe_con_names, probe_con_vals[t]) for t in range(32)]\n",
    "probe_con_out = opj(model_dir, 'task-probe_model-beta.json')\n",
    "with open(probe_con_out, 'w') as fp:\n",
    "    json.dump(probe_con, fp, indent=4)"
   ]
  },
  {
   "cell_type": "markdown",
   "metadata": {},
   "source": [
    "Make event files:"
   ]
  },
  {
   "cell_type": "code",
   "execution_count": null,
   "metadata": {},
   "outputs": [],
   "source": [
    "for sub in subjects[1:]:\n",
    "    # Create subject directory\n",
    "    out_dir = opj(model_dir, sub, 'func')\n",
    "    if not os.path.isdir(out_dir):\n",
    "        os.makedirs(out_dir, exist_ok=True)\n",
    "    print('Saving model specification to: %s' % out_dir)\n",
    "\n",
    "    # Search for event files\n",
    "    sub_dir = opj(data_dir, sub, 'func')\n",
    "    event_files = glob.glob(opj(sub_dir, '*task-probe*events.tsv'))\n",
    "    print('Found functional runs: %s' % event_files)\n",
    "\n",
    "    # Iterate over event files\n",
    "    for event_f in event_files:\n",
    "        print('Reading data from: %s' % event_f)\n",
    "        events = pd.read_csv(event_f, sep='\\t')\n",
    "\n",
    "        # Check\n",
    "        check = events[events['trial_type'] == 'check'].copy()\n",
    "        check = check[['onset', 'duration', 'trial_type']]\n",
    "\n",
    "        # Trials\n",
    "        trials = events[events['trial_type'] != 'check'].copy()\n",
    "        trials['trial_type'] = probe_trials\n",
    "\n",
    "        # Build model\n",
    "        model = pd.concat([check, trials])\n",
    "        model = model[['onset', 'duration', 'trial_type']]\n",
    "        model.sort_values(axis=0, by=['onset', 'trial_type'], inplace=True)\n",
    "        model.reset_index(drop=True, inplace=True)\n",
    "\n",
    "        # # # Save output\n",
    "        out_f = os.path.basename(event_f).replace('_run', '_model-beta_run')\n",
    "        out_path = opj(out_dir, out_f)\n",
    "        print('Saving event file to: %s' % out_path)\n",
    "        model.to_csv(out_path, sep='\\t', index=None)"
   ]
  }
 ],
 "metadata": {
  "kernelspec": {
   "display_name": "Python [conda env:neuro] *",
   "language": "python",
   "name": "conda-env-neuro-py"
  },
  "language_info": {
   "codemirror_mode": {
    "name": "ipython",
    "version": 3
   },
   "file_extension": ".py",
   "mimetype": "text/x-python",
   "name": "python",
   "nbconvert_exporter": "python",
   "pygments_lexer": "ipython3",
   "version": "3.6.7"
  }
 },
 "nbformat": 4,
 "nbformat_minor": 2
}
